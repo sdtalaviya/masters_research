{
 "cells": [
  {
   "cell_type": "markdown",
   "metadata": {},
   "source": [
    "Here we simply run logistic regression with BERT embeddings. Code for building BERT embeddings for A, B, and pronoun is taken from this great [Matei's Kernel](https://www.kaggle.com/mateiionita/taming-the-bert-a-baseline)."
   ]
  },
  {
   "cell_type": "code",
   "execution_count": 1,
   "metadata": {
    "_cell_guid": "b1076dfc-b9ad-4769-8c92-a6c4dae69d19",
    "_uuid": "8f2839f25d086af736a60e9eeb907d3b93b6e0e5"
   },
   "outputs": [],
   "source": [
    "import os\n",
    "import gc\n",
    "import numpy as np\n",
    "import pandas as pd \n",
    "from tqdm import tqdm\n",
    "from sklearn.linear_model import LogisticRegression\n",
    "from sklearn.metrics import log_loss"
   ]
  },
  {
   "cell_type": "code",
   "execution_count": 2,
   "metadata": {},
   "outputs": [],
   "source": [
    "import sys\n",
    "sys.path.append(\"./downloads\")"
   ]
  },
  {
   "cell_type": "code",
   "execution_count": 3,
   "metadata": {
    "_kg_hide-input": false
   },
   "outputs": [
    {
     "name": "stdout",
     "output_type": "stream",
     "text": [
      "  % Total    % Received % Xferd  Average Speed   Time    Time     Time  Current\n",
      "                                 Dload  Upload   Total   Spent    Left  Speed\n",
      "100 1055k  100 1055k    0     0  1313k      0 --:--:-- --:--:-- --:--:-- 1311k\n",
      "  % Total    % Received % Xferd  Average Speed   Time    Time     Time  Current\n",
      "                                 Dload  Upload   Total   Spent    Left  Speed\n",
      "100  239k  100  239k    0     0   156k      0  0:00:01  0:00:01 --:--:--  155k\n",
      "  % Total    % Received % Xferd  Average Speed   Time    Time     Time  Current\n",
      "                                 Dload  Upload   Total   Spent    Left  Speed\n",
      "100 1050k  100 1050k    0     0   995k      0  0:00:01  0:00:01 --:--:--  996k\n",
      "  % Total    % Received % Xferd  Average Speed   Time    Time     Time  Current\n",
      "                                 Dload  Upload   Total   Spent    Left  Speed\n",
      "100 37922  100 37922    0     0  73067      0 --:--:-- --:--:-- --:--:-- 72926      0 --:--:-- --:--:-- --:--:--     0\n",
      "  % Total    % Received % Xferd  Average Speed   Time    Time     Time  Current\n",
      "                                 Dload  Upload   Total   Spent    Left  Speed\n",
      "100 13898  100 13898    0     0  37061      0 --:--:-- --:--:-- --:--:-- 37061\n",
      "  % Total    % Received % Xferd  Average Speed   Time    Time     Time  Current\n",
      "                                 Dload  Upload   Total   Spent    Left  Speed\n",
      "100 12257  100 12257    0     0  31347      0 --:--:-- --:--:-- --:--:-- 31267\n"
     ]
    }
   ],
   "source": [
    "!curl  https://raw.githubusercontent.com/google-research-datasets/gap-coreference/master/gap-development.tsv --output ./downloads/gap-development.tsv\n",
    "!curl  https://raw.githubusercontent.com/google-research-datasets/gap-coreference/master/gap-validation.tsv --output ./downloads/gap-validation.tsv\n",
    "!curl  https://raw.githubusercontent.com/google-research-datasets/gap-coreference/master/gap-test.tsv --output ./downloads/gap-test.tsv\n",
    "!curl  https://raw.githubusercontent.com/google-research/bert/master/modeling.py --output ./downloads/modeling.py\n",
    "!curl  https://raw.githubusercontent.com/google-research/bert/master/extract_features.py --output ./downloads/extract_features.py\n",
    "!curl  https://raw.githubusercontent.com/google-research/bert/master/tokenization.py --output ./downloads/tokenization.py"
   ]
  },
  {
   "cell_type": "code",
   "execution_count": 4,
   "metadata": {},
   "outputs": [
    {
     "ename": "AttributeError",
     "evalue": "module 'tensorflow' has no attribute 'flags'",
     "output_type": "error",
     "traceback": [
      "\u001b[0;31m---------------------------------------------------------------------------\u001b[0m",
      "\u001b[0;31mAttributeError\u001b[0m                            Traceback (most recent call last)",
      "\u001b[0;32m<ipython-input-4-81f4551846d3>\u001b[0m in \u001b[0;36m<module>\u001b[0;34m\u001b[0m\n\u001b[1;32m      1\u001b[0m \u001b[0;32mimport\u001b[0m \u001b[0mmodeling\u001b[0m\u001b[0;34m\u001b[0m\u001b[0;34m\u001b[0m\u001b[0m\n\u001b[0;32m----> 2\u001b[0;31m \u001b[0;32mimport\u001b[0m \u001b[0mextract_features\u001b[0m\u001b[0;34m\u001b[0m\u001b[0;34m\u001b[0m\u001b[0m\n\u001b[0m\u001b[1;32m      3\u001b[0m \u001b[0;32mimport\u001b[0m \u001b[0mtokenization\u001b[0m\u001b[0;34m\u001b[0m\u001b[0;34m\u001b[0m\u001b[0m\n",
      "\u001b[0;32m~/MachineLearning/git_machine_learning/sentiment_research/sentiment_analysis_masters_research/downloads/extract_features.py\u001b[0m in \u001b[0;36m<module>\u001b[0;34m\u001b[0m\n\u001b[1;32m     28\u001b[0m \u001b[0;32mimport\u001b[0m \u001b[0mtensorflow\u001b[0m \u001b[0;32mas\u001b[0m \u001b[0mtf\u001b[0m\u001b[0;34m\u001b[0m\u001b[0;34m\u001b[0m\u001b[0m\n\u001b[1;32m     29\u001b[0m \u001b[0;34m\u001b[0m\u001b[0m\n\u001b[0;32m---> 30\u001b[0;31m \u001b[0mflags\u001b[0m \u001b[0;34m=\u001b[0m \u001b[0mtf\u001b[0m\u001b[0;34m.\u001b[0m\u001b[0mflags\u001b[0m\u001b[0;34m\u001b[0m\u001b[0;34m\u001b[0m\u001b[0m\n\u001b[0m\u001b[1;32m     31\u001b[0m \u001b[0;34m\u001b[0m\u001b[0m\n\u001b[1;32m     32\u001b[0m \u001b[0mFLAGS\u001b[0m \u001b[0;34m=\u001b[0m \u001b[0mflags\u001b[0m\u001b[0;34m.\u001b[0m\u001b[0mFLAGS\u001b[0m\u001b[0;34m\u001b[0m\u001b[0;34m\u001b[0m\u001b[0m\n",
      "\u001b[0;31mAttributeError\u001b[0m: module 'tensorflow' has no attribute 'flags'"
     ]
    }
   ],
   "source": [
    "import modeling\n",
    "import extract_features\n",
    "import tokenization"
   ]
  },
  {
   "cell_type": "code",
   "execution_count": 5,
   "metadata": {
    "_uuid": "6a15e5f4c32659d3408dee927035725ae0135a39"
   },
   "outputs": [],
   "source": [
    "# val_df = pd.read_table('./downloads/gap-validation.tsv', index_col='ID').reset_index(drop=True)\n",
    "# test_df  = pd.read_table('./downloads/gap-validation.tsv', index_col='ID').reset_index(drop=True)\n",
    "# dev_df  = pd.read_table('./downloads/gap-development.tsv', index_col='ID').reset_index(drop=True)\n",
    "\n",
    "df = pd.read_csv('./data/IMDB_Dataset.csv')\n",
    "def_df = df[:40000]\n",
    "test_df = df[40000:]"
   ]
  },
  {
   "cell_type": "code",
   "execution_count": 6,
   "metadata": {},
   "outputs": [],
   "source": [
    "# !curl https://storage.googleapis.com/bert_models/2018_10_18/uncased_L-12_H-768_A-12.zip --output ./downloads/uncased_L-12_H-768_A-12.zip\n",
    "# !unzip ./downloads/uncased_L-12_H-768_A-12.zip"
   ]
  },
  {
   "cell_type": "code",
   "execution_count": 7,
   "metadata": {},
   "outputs": [],
   "source": [
    "def count_char(text, offset):   \n",
    "    count = 0\n",
    "    for pos in range(offset):\n",
    "        if text[pos] != \" \": count +=1\n",
    "    return count\n",
    "\n",
    "def candidate_length(candidate):\n",
    "    count = 0\n",
    "    for i in range(len(candidate)):\n",
    "        if candidate[i] !=  \" \": count += 1\n",
    "    return count\n",
    "\n",
    "def count_token_length_special(token):\n",
    "    count = 0\n",
    "    special_token = [\"#\", \" \"]\n",
    "    for i in range(len(token)):\n",
    "        if token[i] not in special_token: count+=1\n",
    "    return count\n",
    "\n",
    "def embed_by_bert(df, path_to_bert='./downloads/uncased_L-12_H-768_A-12', embed_size=768, batch_size=8,\n",
    "                 layers='-1', max_seq_length=256):\n",
    "    \n",
    "    text = df['sentiment']\n",
    "    text.to_csv('./downloads/input.txt', index=False, header=False)\n",
    "    os.system(f\"python3 ./downloads/extract_features.py \\\n",
    "               --input_file=./downloads/input.txt \\\n",
    "               --output_file=./downloads/output.jsonl \\\n",
    "               --vocab_file={path_to_bert}/vocab.txt \\\n",
    "               --bert_config_file={path_to_bert}/bert_config.json \\\n",
    "               --init_checkpoint={path_to_bert}/bert_model.ckpt \\\n",
    "               --layers={layers} \\\n",
    "               --max_seq_length={max_seq_length} \\\n",
    "               --batch_size={batch_size}\")\n",
    "\n",
    "    bert_output = pd.read_json(\"./downloads/output.jsonl\", lines=True)\n",
    "    bert_output.head()\n",
    "    \n",
    "    os.system(\"rm ./downloads/input.txt\")\n",
    "    os.system(\"rm ./downloads/output.jsonl\")\n",
    "    \n",
    "    index = df.index\n",
    "    columns = [\"emb_A\", \"emb_B\", \"emb_P\", \"label\"]\n",
    "    emb = pd.DataFrame(index = index, columns = columns)\n",
    "    emb.index.name = \"ID\"\n",
    "    \n",
    "    for i in tqdm(range(len(text))):\n",
    "        \n",
    "        features = bert_output.loc[i, \"features\"]\n",
    "        P_char_start = count_char(df.loc[i, 'Text'], df.loc[i, 'Pronoun-offset'])\n",
    "        A_char_start = count_char(df.loc[i, 'Text'], df.loc[i, 'A-offset'])\n",
    "        B_char_start = count_char(df.loc[i, 'Text'], df.loc[i, 'B-offset'])\n",
    "        A_length = candidate_length(df.loc[i, 'A'])\n",
    "        B_length = candidate_length(df.loc[i, 'B'])\n",
    "        \n",
    "        emb_A, emb_B, emb_P = np.zeros(embed_size), np.zeros(embed_size), np.zeros(embed_size)\n",
    "        char_count, cnt_A, cnt_B = 0, 0, 0\n",
    "        \n",
    "        for j in range(2, len(features)):\n",
    "            token = features[j][\"token\"]\n",
    "            token_length = count_token_length_special(token)\n",
    "            if char_count == P_char_start:\n",
    "                emb_P += np.asarray(features[j][\"layers\"][0]['values']) \n",
    "            if char_count in range(A_char_start, A_char_start + A_length):\n",
    "                emb_A += np.asarray(features[j][\"layers\"][0]['values'])\n",
    "                cnt_A += 1\n",
    "            if char_count in range(B_char_start, B_char_start + B_length):\n",
    "                emb_B += np.asarray(features[j][\"layers\"][0]['values'])\n",
    "                cnt_B += 1                \n",
    "            char_count += token_length\n",
    "        \n",
    "        if cnt_A > 0:\n",
    "            emb_A /= cnt_A\n",
    "        if cnt_B > 0:\n",
    "            emb_B /= cnt_B\n",
    "        \n",
    "        label = \"Neither\"\n",
    "        if (df.loc[i,\"A-coref\"] == True):\n",
    "            label = \"A\"\n",
    "        if (df.loc[i,\"B-coref\"] == True):\n",
    "            label = \"B\"\n",
    "\n",
    "        emb.iloc[i] = [emb_A, emb_B, emb_P, label]\n",
    "        \n",
    "    return emb    "
   ]
  },
  {
   "cell_type": "code",
   "execution_count": 8,
   "metadata": {},
   "outputs": [
    {
     "name": "stderr",
     "output_type": "stream",
     "text": [
      "  0%|          | 0/454 [00:00<?, ?it/s]/Users/stalaviya/MachineLearning/git_machine_learning/venv1/lib/python3.8/site-packages/pandas/core/internals/blocks.py:849: VisibleDeprecationWarning: Creating an ndarray from ragged nested sequences (which is a list-or-tuple of lists-or-tuples-or ndarrays with different lengths or shapes) is deprecated. If you meant to do this, you must specify 'dtype=object' when creating the ndarray\n",
      "  arr_value = np.array(value)\n",
      "100%|██████████| 454/454 [00:00<00:00, 1139.85it/s]\n",
      "  0%|          | 0/454 [00:00<?, ?it/s]/Users/stalaviya/MachineLearning/git_machine_learning/venv1/lib/python3.8/site-packages/pandas/core/internals/blocks.py:849: VisibleDeprecationWarning: Creating an ndarray from ragged nested sequences (which is a list-or-tuple of lists-or-tuples-or ndarrays with different lengths or shapes) is deprecated. If you meant to do this, you must specify 'dtype=object' when creating the ndarray\n",
      "  arr_value = np.array(value)\n",
      "100%|██████████| 454/454 [00:00<00:00, 1441.64it/s]\n",
      "  0%|          | 0/2000 [00:00<?, ?it/s]/Users/stalaviya/MachineLearning/git_machine_learning/venv1/lib/python3.8/site-packages/pandas/core/internals/blocks.py:849: VisibleDeprecationWarning: Creating an ndarray from ragged nested sequences (which is a list-or-tuple of lists-or-tuples-or ndarrays with different lengths or shapes) is deprecated. If you meant to do this, you must specify 'dtype=object' when creating the ndarray\n",
      "  arr_value = np.array(value)\n",
      "100%|██████████| 2000/2000 [00:01<00:00, 1008.95it/s]"
     ]
    },
    {
     "name": "stdout",
     "output_type": "stream",
     "text": [
      "CPU times: user 36.7 s, sys: 25.6 s, total: 1min 2s\n",
      "Wall time: 1h 23min 56s\n"
     ]
    },
    {
     "name": "stderr",
     "output_type": "stream",
     "text": [
      "\n"
     ]
    }
   ],
   "source": [
    "%%time\n",
    "val_bert_emb = embed_by_bert(val_df)\n",
    "test_bert_emb = embed_by_bert(test_df)\n",
    "dev_bert_emb = embed_by_bert(dev_df)"
   ]
  },
  {
   "cell_type": "code",
   "execution_count": 9,
   "metadata": {},
   "outputs": [
    {
     "data": {
      "text/plain": [
       "(768,)"
      ]
     },
     "execution_count": 9,
     "metadata": {},
     "output_type": "execute_result"
    }
   ],
   "source": [
    "val_bert_emb[\"emb_A\"].head().map(np.asarray).values[0].astype('float').shape"
   ]
  },
  {
   "cell_type": "code",
   "execution_count": 10,
   "metadata": {
    "_uuid": "78ad73eabc65583a927c7f2ac721aa4551ae0992"
   },
   "outputs": [],
   "source": [
    "def featurize(embedding_df):\n",
    "    \n",
    "    pronoun_embs, a_embs, b_embs, labels = [], [], [], []\n",
    "    \n",
    "    for i in tqdm(range(len(embedding_df))):\n",
    "        \n",
    "        pronoun_embs.append(embedding_df.loc[i, \"emb_P\"])\n",
    "        a_embs.append(embedding_df.loc[i, \"emb_A\"])\n",
    "        b_embs.append(embedding_df.loc[i, \"emb_B\"])\n",
    "\n",
    "        label_map = {'A': 0, 'B': 1, 'Neither': 2}\n",
    "        labels.append(label_map[embedding_df.loc[i, \"label\"]])\n",
    "\n",
    "    \n",
    "    a_embs = np.asarray(a_embs).astype('float')\n",
    "    b_embs = np.asarray(b_embs).astype('float') \n",
    "    pronoun_embs = np.asarray(pronoun_embs).astype('float')\n",
    "    \n",
    "    return np.concatenate([a_embs, b_embs, pronoun_embs], axis=1), np.asarray(labels)"
   ]
  },
  {
   "cell_type": "code",
   "execution_count": 11,
   "metadata": {
    "_uuid": "9eecf8cbabf3ebd4e98ba5c80c00b6681a0b4943"
   },
   "outputs": [
    {
     "name": "stderr",
     "output_type": "stream",
     "text": [
      "100%|██████████| 2454/2454 [00:00<00:00, 30568.17it/s]\n"
     ]
    }
   ],
   "source": [
    "X_train, y_train = featurize(pd.concat([val_bert_emb, dev_bert_emb]).sort_index().reset_index())"
   ]
  },
  {
   "cell_type": "code",
   "execution_count": 12,
   "metadata": {
    "_uuid": "4bb874eb34b26635fbe65bc271a0acda9f9af237"
   },
   "outputs": [
    {
     "data": {
      "text/plain": [
       "((2454, 2304), (2454,))"
      ]
     },
     "execution_count": 12,
     "metadata": {},
     "output_type": "execute_result"
    }
   ],
   "source": [
    "X_train.shape, y_train.shape"
   ]
  },
  {
   "cell_type": "code",
   "execution_count": 13,
   "metadata": {},
   "outputs": [],
   "source": [
    "logit = LogisticRegression(C=1e-2, random_state=17, solver='lbfgs', \n",
    "                           multi_class='multinomial', max_iter=100,\n",
    "                          n_jobs=4)"
   ]
  },
  {
   "cell_type": "code",
   "execution_count": 14,
   "metadata": {},
   "outputs": [
    {
     "name": "stdout",
     "output_type": "stream",
     "text": [
      "CPU times: user 39.4 ms, sys: 96.6 ms, total: 136 ms\n",
      "Wall time: 2.72 s\n"
     ]
    },
    {
     "data": {
      "text/plain": [
       "LogisticRegression(C=0.01, multi_class='multinomial', n_jobs=4, random_state=17)"
      ]
     },
     "execution_count": 14,
     "metadata": {},
     "output_type": "execute_result"
    }
   ],
   "source": [
    "%%time\n",
    "logit.fit(X_train, y_train)"
   ]
  },
  {
   "cell_type": "markdown",
   "metadata": {},
   "source": [
    "## Prediction for stage 1 test set "
   ]
  },
  {
   "cell_type": "code",
   "execution_count": 15,
   "metadata": {},
   "outputs": [
    {
     "name": "stdout",
     "output_type": "stream",
     "text": [
      "cp: gap-development.tsv: No such file or directory\n"
     ]
    }
   ],
   "source": [
    "!cp gap-development.tsv stage1_test.tsv"
   ]
  },
  {
   "cell_type": "code",
   "execution_count": 1,
   "metadata": {},
   "outputs": [
    {
     "ename": "NameError",
     "evalue": "name 'pd' is not defined",
     "output_type": "error",
     "traceback": [
      "\u001b[0;31m---------------------------------------------------------------------------\u001b[0m",
      "\u001b[0;31mNameError\u001b[0m                                 Traceback (most recent call last)",
      "\u001b[0;32m<ipython-input-1-3380a91339e8>\u001b[0m in \u001b[0;36m<module>\u001b[0;34m\u001b[0m\n\u001b[0;32m----> 1\u001b[0;31m \u001b[0mstage1_test_df\u001b[0m  \u001b[0;34m=\u001b[0m \u001b[0mpd\u001b[0m\u001b[0;34m.\u001b[0m\u001b[0mread_table\u001b[0m\u001b[0;34m(\u001b[0m\u001b[0;34m'./downloads/gap-test.tsv'\u001b[0m\u001b[0;34m,\u001b[0m \u001b[0mindex_col\u001b[0m\u001b[0;34m=\u001b[0m\u001b[0;34m'ID'\u001b[0m\u001b[0;34m)\u001b[0m\u001b[0;34m.\u001b[0m\u001b[0mreset_index\u001b[0m\u001b[0;34m(\u001b[0m\u001b[0mdrop\u001b[0m\u001b[0;34m=\u001b[0m\u001b[0;32mTrue\u001b[0m\u001b[0;34m)\u001b[0m\u001b[0;34m\u001b[0m\u001b[0;34m\u001b[0m\u001b[0m\n\u001b[0m",
      "\u001b[0;31mNameError\u001b[0m: name 'pd' is not defined"
     ]
    }
   ],
   "source": [
    "stage1_test_df  = pd.read_table('./downloads/gap-test.tsv', index_col='ID').reset_index(drop=True)"
   ]
  },
  {
   "cell_type": "code",
   "execution_count": null,
   "metadata": {},
   "outputs": [],
   "source": [
    "%%time\n",
    "stage1_test_bert_emb = embed_by_bert(stage1_test_df)"
   ]
  },
  {
   "cell_type": "code",
   "execution_count": null,
   "metadata": {},
   "outputs": [],
   "source": [
    "X_test, y_test = featurize(stage1_test_bert_emb)"
   ]
  },
  {
   "cell_type": "code",
   "execution_count": null,
   "metadata": {},
   "outputs": [],
   "source": [
    "logit_test_pred = logit.predict_proba(X_test)\n",
    "log_loss(y_test, logit_test_pred)"
   ]
  },
  {
   "cell_type": "code",
   "execution_count": null,
   "metadata": {},
   "outputs": [],
   "source": [
    "# Write the prediction to file for submission\n",
    "submission = pd.read_csv(\"../input/sample_submission_stage_1.csv\", index_col = \"ID\")\n",
    "submission[\"A\"] = logit_test_pred[:, 0]\n",
    "submission[\"B\"] = logit_test_pred[:, 1]\n",
    "submission[\"NEITHER\"] = logit_test_pred[:, 2]\n",
    "submission.to_csv(\"submission.csv\")"
   ]
  },
  {
   "cell_type": "code",
   "execution_count": null,
   "metadata": {},
   "outputs": [],
   "source": []
  }
 ],
 "metadata": {
  "kernelspec": {
   "display_name": "Python 3",
   "language": "python",
   "name": "python3"
  },
  "language_info": {
   "codemirror_mode": {
    "name": "ipython",
    "version": 3
   },
   "file_extension": ".py",
   "mimetype": "text/x-python",
   "name": "python",
   "nbconvert_exporter": "python",
   "pygments_lexer": "ipython3",
   "version": "3.8.7"
  }
 },
 "nbformat": 4,
 "nbformat_minor": 4
}
