{
  "nbformat": 4,
  "nbformat_minor": 0,
  "metadata": {
    "kernelspec": {
      "display_name": "Python 3",
      "language": "python",
      "name": "python3"
    },
    "language_info": {
      "codemirror_mode": {
        "name": "ipython",
        "version": 3
      },
      "file_extension": ".py",
      "mimetype": "text/x-python",
      "name": "python",
      "nbconvert_exporter": "python",
      "pygments_lexer": "ipython3",
      "version": "3.7.4"
    },
    "papermill": {
      "duration": 311.805894,
      "end_time": "2021-01-08T15:10:00.419313",
      "environment_variables": {},
      "exception": null,
      "input_path": "__notebook__.ipynb",
      "output_path": "__notebook__.ipynb",
      "parameters": {},
      "start_time": "2021-01-08T15:04:48.613419",
      "version": "2.1.0"
    },
    "widgets": {
      "application/vnd.jupyter.widget-state+json": {
        "85f45fb8d45e4ce5a98311fb10036421": {
          "model_module": "@jupyter-widgets/controls",
          "model_name": "HBoxModel",
          "state": {
            "_view_name": "HBoxView",
            "_dom_classes": [],
            "_model_name": "HBoxModel",
            "_view_module": "@jupyter-widgets/controls",
            "_model_module_version": "1.5.0",
            "_view_count": null,
            "_view_module_version": "1.5.0",
            "box_style": "",
            "layout": "IPY_MODEL_ce3f25bfd2a84653bcde0361ef6c80f4",
            "_model_module": "@jupyter-widgets/controls",
            "children": [
              "IPY_MODEL_b8edb5af94f24b5fb7aef8a6f9dea613",
              "IPY_MODEL_86ee29f4c4d3425bbc461ad2deb244ee"
            ]
          }
        },
        "ce3f25bfd2a84653bcde0361ef6c80f4": {
          "model_module": "@jupyter-widgets/base",
          "model_name": "LayoutModel",
          "state": {
            "_view_name": "LayoutView",
            "grid_template_rows": null,
            "right": null,
            "justify_content": null,
            "_view_module": "@jupyter-widgets/base",
            "overflow": null,
            "_model_module_version": "1.2.0",
            "_view_count": null,
            "flex_flow": null,
            "width": null,
            "min_width": null,
            "border": null,
            "align_items": null,
            "bottom": null,
            "_model_module": "@jupyter-widgets/base",
            "top": null,
            "grid_column": null,
            "overflow_y": null,
            "overflow_x": null,
            "grid_auto_flow": null,
            "grid_area": null,
            "grid_template_columns": null,
            "flex": null,
            "_model_name": "LayoutModel",
            "justify_items": null,
            "grid_row": null,
            "max_height": null,
            "align_content": null,
            "visibility": null,
            "align_self": null,
            "height": null,
            "min_height": null,
            "padding": null,
            "grid_auto_rows": null,
            "grid_gap": null,
            "max_width": null,
            "order": null,
            "_view_module_version": "1.2.0",
            "grid_template_areas": null,
            "object_position": null,
            "object_fit": null,
            "grid_auto_columns": null,
            "margin": null,
            "display": null,
            "left": null
          }
        },
        "b8edb5af94f24b5fb7aef8a6f9dea613": {
          "model_module": "@jupyter-widgets/controls",
          "model_name": "FloatProgressModel",
          "state": {
            "_view_name": "ProgressView",
            "style": "IPY_MODEL_0e022169e9e944dc9db183f9487d779a",
            "_dom_classes": [],
            "description": "Downloading: 100%",
            "_model_name": "FloatProgressModel",
            "bar_style": "success",
            "max": 231508,
            "_view_module": "@jupyter-widgets/controls",
            "_model_module_version": "1.5.0",
            "value": 231508,
            "_view_count": null,
            "_view_module_version": "1.5.0",
            "orientation": "horizontal",
            "min": 0,
            "description_tooltip": null,
            "_model_module": "@jupyter-widgets/controls",
            "layout": "IPY_MODEL_8411fc892c104daaa5c0c3a66677bc93"
          }
        },
        "86ee29f4c4d3425bbc461ad2deb244ee": {
          "model_module": "@jupyter-widgets/controls",
          "model_name": "HTMLModel",
          "state": {
            "_view_name": "HTMLView",
            "style": "IPY_MODEL_c919059046344d32988752ba8bd925f6",
            "_dom_classes": [],
            "description": "",
            "_model_name": "HTMLModel",
            "placeholder": "​",
            "_view_module": "@jupyter-widgets/controls",
            "_model_module_version": "1.5.0",
            "value": " 232k/232k [00:02&lt;00:00, 103kB/s]",
            "_view_count": null,
            "_view_module_version": "1.5.0",
            "description_tooltip": null,
            "_model_module": "@jupyter-widgets/controls",
            "layout": "IPY_MODEL_c0e42c50ac5d4058ae16fb24e26fdaa0"
          }
        },
        "0e022169e9e944dc9db183f9487d779a": {
          "model_module": "@jupyter-widgets/controls",
          "model_name": "ProgressStyleModel",
          "state": {
            "_view_name": "StyleView",
            "_model_name": "ProgressStyleModel",
            "description_width": "initial",
            "_view_module": "@jupyter-widgets/base",
            "_model_module_version": "1.5.0",
            "_view_count": null,
            "_view_module_version": "1.2.0",
            "bar_color": null,
            "_model_module": "@jupyter-widgets/controls"
          }
        },
        "8411fc892c104daaa5c0c3a66677bc93": {
          "model_module": "@jupyter-widgets/base",
          "model_name": "LayoutModel",
          "state": {
            "_view_name": "LayoutView",
            "grid_template_rows": null,
            "right": null,
            "justify_content": null,
            "_view_module": "@jupyter-widgets/base",
            "overflow": null,
            "_model_module_version": "1.2.0",
            "_view_count": null,
            "flex_flow": null,
            "width": null,
            "min_width": null,
            "border": null,
            "align_items": null,
            "bottom": null,
            "_model_module": "@jupyter-widgets/base",
            "top": null,
            "grid_column": null,
            "overflow_y": null,
            "overflow_x": null,
            "grid_auto_flow": null,
            "grid_area": null,
            "grid_template_columns": null,
            "flex": null,
            "_model_name": "LayoutModel",
            "justify_items": null,
            "grid_row": null,
            "max_height": null,
            "align_content": null,
            "visibility": null,
            "align_self": null,
            "height": null,
            "min_height": null,
            "padding": null,
            "grid_auto_rows": null,
            "grid_gap": null,
            "max_width": null,
            "order": null,
            "_view_module_version": "1.2.0",
            "grid_template_areas": null,
            "object_position": null,
            "object_fit": null,
            "grid_auto_columns": null,
            "margin": null,
            "display": null,
            "left": null
          }
        },
        "c919059046344d32988752ba8bd925f6": {
          "model_module": "@jupyter-widgets/controls",
          "model_name": "DescriptionStyleModel",
          "state": {
            "_view_name": "StyleView",
            "_model_name": "DescriptionStyleModel",
            "description_width": "",
            "_view_module": "@jupyter-widgets/base",
            "_model_module_version": "1.5.0",
            "_view_count": null,
            "_view_module_version": "1.2.0",
            "_model_module": "@jupyter-widgets/controls"
          }
        },
        "c0e42c50ac5d4058ae16fb24e26fdaa0": {
          "model_module": "@jupyter-widgets/base",
          "model_name": "LayoutModel",
          "state": {
            "_view_name": "LayoutView",
            "grid_template_rows": null,
            "right": null,
            "justify_content": null,
            "_view_module": "@jupyter-widgets/base",
            "overflow": null,
            "_model_module_version": "1.2.0",
            "_view_count": null,
            "flex_flow": null,
            "width": null,
            "min_width": null,
            "border": null,
            "align_items": null,
            "bottom": null,
            "_model_module": "@jupyter-widgets/base",
            "top": null,
            "grid_column": null,
            "overflow_y": null,
            "overflow_x": null,
            "grid_auto_flow": null,
            "grid_area": null,
            "grid_template_columns": null,
            "flex": null,
            "_model_name": "LayoutModel",
            "justify_items": null,
            "grid_row": null,
            "max_height": null,
            "align_content": null,
            "visibility": null,
            "align_self": null,
            "height": null,
            "min_height": null,
            "padding": null,
            "grid_auto_rows": null,
            "grid_gap": null,
            "max_width": null,
            "order": null,
            "_view_module_version": "1.2.0",
            "grid_template_areas": null,
            "object_position": null,
            "object_fit": null,
            "grid_auto_columns": null,
            "margin": null,
            "display": null,
            "left": null
          }
        },
        "bea2465624374b66b3fb0b896400ef55": {
          "model_module": "@jupyter-widgets/controls",
          "model_name": "HBoxModel",
          "state": {
            "_view_name": "HBoxView",
            "_dom_classes": [],
            "_model_name": "HBoxModel",
            "_view_module": "@jupyter-widgets/controls",
            "_model_module_version": "1.5.0",
            "_view_count": null,
            "_view_module_version": "1.5.0",
            "box_style": "",
            "layout": "IPY_MODEL_67c9fb0aaffb4bf18cc11953271760ee",
            "_model_module": "@jupyter-widgets/controls",
            "children": [
              "IPY_MODEL_55ad87ea266b455eb5f2a3f9ae0b41de",
              "IPY_MODEL_5518ecc0720142358548383be9162e2b"
            ]
          }
        },
        "67c9fb0aaffb4bf18cc11953271760ee": {
          "model_module": "@jupyter-widgets/base",
          "model_name": "LayoutModel",
          "state": {
            "_view_name": "LayoutView",
            "grid_template_rows": null,
            "right": null,
            "justify_content": null,
            "_view_module": "@jupyter-widgets/base",
            "overflow": null,
            "_model_module_version": "1.2.0",
            "_view_count": null,
            "flex_flow": null,
            "width": null,
            "min_width": null,
            "border": null,
            "align_items": null,
            "bottom": null,
            "_model_module": "@jupyter-widgets/base",
            "top": null,
            "grid_column": null,
            "overflow_y": null,
            "overflow_x": null,
            "grid_auto_flow": null,
            "grid_area": null,
            "grid_template_columns": null,
            "flex": null,
            "_model_name": "LayoutModel",
            "justify_items": null,
            "grid_row": null,
            "max_height": null,
            "align_content": null,
            "visibility": null,
            "align_self": null,
            "height": null,
            "min_height": null,
            "padding": null,
            "grid_auto_rows": null,
            "grid_gap": null,
            "max_width": null,
            "order": null,
            "_view_module_version": "1.2.0",
            "grid_template_areas": null,
            "object_position": null,
            "object_fit": null,
            "grid_auto_columns": null,
            "margin": null,
            "display": null,
            "left": null
          }
        },
        "55ad87ea266b455eb5f2a3f9ae0b41de": {
          "model_module": "@jupyter-widgets/controls",
          "model_name": "FloatProgressModel",
          "state": {
            "_view_name": "ProgressView",
            "style": "IPY_MODEL_5b7889c5877542929148cd8171b3ab52",
            "_dom_classes": [],
            "description": "Downloading: 100%",
            "_model_name": "FloatProgressModel",
            "bar_style": "success",
            "max": 28,
            "_view_module": "@jupyter-widgets/controls",
            "_model_module_version": "1.5.0",
            "value": 28,
            "_view_count": null,
            "_view_module_version": "1.5.0",
            "orientation": "horizontal",
            "min": 0,
            "description_tooltip": null,
            "_model_module": "@jupyter-widgets/controls",
            "layout": "IPY_MODEL_a76a21e06c3d462aa0c053bc8842f57d"
          }
        },
        "5518ecc0720142358548383be9162e2b": {
          "model_module": "@jupyter-widgets/controls",
          "model_name": "HTMLModel",
          "state": {
            "_view_name": "HTMLView",
            "style": "IPY_MODEL_b03f77be50824128bcd0cfc8e5729a2c",
            "_dom_classes": [],
            "description": "",
            "_model_name": "HTMLModel",
            "placeholder": "​",
            "_view_module": "@jupyter-widgets/controls",
            "_model_module_version": "1.5.0",
            "value": " 28.0/28.0 [00:00&lt;00:00, 49.2B/s]",
            "_view_count": null,
            "_view_module_version": "1.5.0",
            "description_tooltip": null,
            "_model_module": "@jupyter-widgets/controls",
            "layout": "IPY_MODEL_231d037d0bd0485ab4f3b4621d796bdf"
          }
        },
        "5b7889c5877542929148cd8171b3ab52": {
          "model_module": "@jupyter-widgets/controls",
          "model_name": "ProgressStyleModel",
          "state": {
            "_view_name": "StyleView",
            "_model_name": "ProgressStyleModel",
            "description_width": "initial",
            "_view_module": "@jupyter-widgets/base",
            "_model_module_version": "1.5.0",
            "_view_count": null,
            "_view_module_version": "1.2.0",
            "bar_color": null,
            "_model_module": "@jupyter-widgets/controls"
          }
        },
        "a76a21e06c3d462aa0c053bc8842f57d": {
          "model_module": "@jupyter-widgets/base",
          "model_name": "LayoutModel",
          "state": {
            "_view_name": "LayoutView",
            "grid_template_rows": null,
            "right": null,
            "justify_content": null,
            "_view_module": "@jupyter-widgets/base",
            "overflow": null,
            "_model_module_version": "1.2.0",
            "_view_count": null,
            "flex_flow": null,
            "width": null,
            "min_width": null,
            "border": null,
            "align_items": null,
            "bottom": null,
            "_model_module": "@jupyter-widgets/base",
            "top": null,
            "grid_column": null,
            "overflow_y": null,
            "overflow_x": null,
            "grid_auto_flow": null,
            "grid_area": null,
            "grid_template_columns": null,
            "flex": null,
            "_model_name": "LayoutModel",
            "justify_items": null,
            "grid_row": null,
            "max_height": null,
            "align_content": null,
            "visibility": null,
            "align_self": null,
            "height": null,
            "min_height": null,
            "padding": null,
            "grid_auto_rows": null,
            "grid_gap": null,
            "max_width": null,
            "order": null,
            "_view_module_version": "1.2.0",
            "grid_template_areas": null,
            "object_position": null,
            "object_fit": null,
            "grid_auto_columns": null,
            "margin": null,
            "display": null,
            "left": null
          }
        },
        "b03f77be50824128bcd0cfc8e5729a2c": {
          "model_module": "@jupyter-widgets/controls",
          "model_name": "DescriptionStyleModel",
          "state": {
            "_view_name": "StyleView",
            "_model_name": "DescriptionStyleModel",
            "description_width": "",
            "_view_module": "@jupyter-widgets/base",
            "_model_module_version": "1.5.0",
            "_view_count": null,
            "_view_module_version": "1.2.0",
            "_model_module": "@jupyter-widgets/controls"
          }
        },
        "231d037d0bd0485ab4f3b4621d796bdf": {
          "model_module": "@jupyter-widgets/base",
          "model_name": "LayoutModel",
          "state": {
            "_view_name": "LayoutView",
            "grid_template_rows": null,
            "right": null,
            "justify_content": null,
            "_view_module": "@jupyter-widgets/base",
            "overflow": null,
            "_model_module_version": "1.2.0",
            "_view_count": null,
            "flex_flow": null,
            "width": null,
            "min_width": null,
            "border": null,
            "align_items": null,
            "bottom": null,
            "_model_module": "@jupyter-widgets/base",
            "top": null,
            "grid_column": null,
            "overflow_y": null,
            "overflow_x": null,
            "grid_auto_flow": null,
            "grid_area": null,
            "grid_template_columns": null,
            "flex": null,
            "_model_name": "LayoutModel",
            "justify_items": null,
            "grid_row": null,
            "max_height": null,
            "align_content": null,
            "visibility": null,
            "align_self": null,
            "height": null,
            "min_height": null,
            "padding": null,
            "grid_auto_rows": null,
            "grid_gap": null,
            "max_width": null,
            "order": null,
            "_view_module_version": "1.2.0",
            "grid_template_areas": null,
            "object_position": null,
            "object_fit": null,
            "grid_auto_columns": null,
            "margin": null,
            "display": null,
            "left": null
          }
        },
        "dfabe8196e1f41ea8214d0fb63e1748d": {
          "model_module": "@jupyter-widgets/controls",
          "model_name": "HBoxModel",
          "state": {
            "_view_name": "HBoxView",
            "_dom_classes": [],
            "_model_name": "HBoxModel",
            "_view_module": "@jupyter-widgets/controls",
            "_model_module_version": "1.5.0",
            "_view_count": null,
            "_view_module_version": "1.5.0",
            "box_style": "",
            "layout": "IPY_MODEL_c04ce864d6c74e089ee3392431c141b5",
            "_model_module": "@jupyter-widgets/controls",
            "children": [
              "IPY_MODEL_ac69cb8e54874b62a3f36e798e2d12e8",
              "IPY_MODEL_8566dc0eda8546ea8d1dc83ac0818c46"
            ]
          }
        },
        "c04ce864d6c74e089ee3392431c141b5": {
          "model_module": "@jupyter-widgets/base",
          "model_name": "LayoutModel",
          "state": {
            "_view_name": "LayoutView",
            "grid_template_rows": null,
            "right": null,
            "justify_content": null,
            "_view_module": "@jupyter-widgets/base",
            "overflow": null,
            "_model_module_version": "1.2.0",
            "_view_count": null,
            "flex_flow": null,
            "width": null,
            "min_width": null,
            "border": null,
            "align_items": null,
            "bottom": null,
            "_model_module": "@jupyter-widgets/base",
            "top": null,
            "grid_column": null,
            "overflow_y": null,
            "overflow_x": null,
            "grid_auto_flow": null,
            "grid_area": null,
            "grid_template_columns": null,
            "flex": null,
            "_model_name": "LayoutModel",
            "justify_items": null,
            "grid_row": null,
            "max_height": null,
            "align_content": null,
            "visibility": null,
            "align_self": null,
            "height": null,
            "min_height": null,
            "padding": null,
            "grid_auto_rows": null,
            "grid_gap": null,
            "max_width": null,
            "order": null,
            "_view_module_version": "1.2.0",
            "grid_template_areas": null,
            "object_position": null,
            "object_fit": null,
            "grid_auto_columns": null,
            "margin": null,
            "display": null,
            "left": null
          }
        },
        "ac69cb8e54874b62a3f36e798e2d12e8": {
          "model_module": "@jupyter-widgets/controls",
          "model_name": "FloatProgressModel",
          "state": {
            "_view_name": "ProgressView",
            "style": "IPY_MODEL_4a69c35863c9430094b2c13d8d78454e",
            "_dom_classes": [],
            "description": "Downloading: 100%",
            "_model_name": "FloatProgressModel",
            "bar_style": "success",
            "max": 466062,
            "_view_module": "@jupyter-widgets/controls",
            "_model_module_version": "1.5.0",
            "value": 466062,
            "_view_count": null,
            "_view_module_version": "1.5.0",
            "orientation": "horizontal",
            "min": 0,
            "description_tooltip": null,
            "_model_module": "@jupyter-widgets/controls",
            "layout": "IPY_MODEL_7c89470cff264ff1a4c9fc7b8ea85ed8"
          }
        },
        "8566dc0eda8546ea8d1dc83ac0818c46": {
          "model_module": "@jupyter-widgets/controls",
          "model_name": "HTMLModel",
          "state": {
            "_view_name": "HTMLView",
            "style": "IPY_MODEL_1874f95a9b5d4bceb964362af99030f2",
            "_dom_classes": [],
            "description": "",
            "_model_name": "HTMLModel",
            "placeholder": "​",
            "_view_module": "@jupyter-widgets/controls",
            "_model_module_version": "1.5.0",
            "value": " 466k/466k [00:00&lt;00:00, 2.34MB/s]",
            "_view_count": null,
            "_view_module_version": "1.5.0",
            "description_tooltip": null,
            "_model_module": "@jupyter-widgets/controls",
            "layout": "IPY_MODEL_9d66e408b0684cf78fe56f568683c2f5"
          }
        },
        "4a69c35863c9430094b2c13d8d78454e": {
          "model_module": "@jupyter-widgets/controls",
          "model_name": "ProgressStyleModel",
          "state": {
            "_view_name": "StyleView",
            "_model_name": "ProgressStyleModel",
            "description_width": "initial",
            "_view_module": "@jupyter-widgets/base",
            "_model_module_version": "1.5.0",
            "_view_count": null,
            "_view_module_version": "1.2.0",
            "bar_color": null,
            "_model_module": "@jupyter-widgets/controls"
          }
        },
        "7c89470cff264ff1a4c9fc7b8ea85ed8": {
          "model_module": "@jupyter-widgets/base",
          "model_name": "LayoutModel",
          "state": {
            "_view_name": "LayoutView",
            "grid_template_rows": null,
            "right": null,
            "justify_content": null,
            "_view_module": "@jupyter-widgets/base",
            "overflow": null,
            "_model_module_version": "1.2.0",
            "_view_count": null,
            "flex_flow": null,
            "width": null,
            "min_width": null,
            "border": null,
            "align_items": null,
            "bottom": null,
            "_model_module": "@jupyter-widgets/base",
            "top": null,
            "grid_column": null,
            "overflow_y": null,
            "overflow_x": null,
            "grid_auto_flow": null,
            "grid_area": null,
            "grid_template_columns": null,
            "flex": null,
            "_model_name": "LayoutModel",
            "justify_items": null,
            "grid_row": null,
            "max_height": null,
            "align_content": null,
            "visibility": null,
            "align_self": null,
            "height": null,
            "min_height": null,
            "padding": null,
            "grid_auto_rows": null,
            "grid_gap": null,
            "max_width": null,
            "order": null,
            "_view_module_version": "1.2.0",
            "grid_template_areas": null,
            "object_position": null,
            "object_fit": null,
            "grid_auto_columns": null,
            "margin": null,
            "display": null,
            "left": null
          }
        },
        "1874f95a9b5d4bceb964362af99030f2": {
          "model_module": "@jupyter-widgets/controls",
          "model_name": "DescriptionStyleModel",
          "state": {
            "_view_name": "StyleView",
            "_model_name": "DescriptionStyleModel",
            "description_width": "",
            "_view_module": "@jupyter-widgets/base",
            "_model_module_version": "1.5.0",
            "_view_count": null,
            "_view_module_version": "1.2.0",
            "_model_module": "@jupyter-widgets/controls"
          }
        },
        "9d66e408b0684cf78fe56f568683c2f5": {
          "model_module": "@jupyter-widgets/base",
          "model_name": "LayoutModel",
          "state": {
            "_view_name": "LayoutView",
            "grid_template_rows": null,
            "right": null,
            "justify_content": null,
            "_view_module": "@jupyter-widgets/base",
            "overflow": null,
            "_model_module_version": "1.2.0",
            "_view_count": null,
            "flex_flow": null,
            "width": null,
            "min_width": null,
            "border": null,
            "align_items": null,
            "bottom": null,
            "_model_module": "@jupyter-widgets/base",
            "top": null,
            "grid_column": null,
            "overflow_y": null,
            "overflow_x": null,
            "grid_auto_flow": null,
            "grid_area": null,
            "grid_template_columns": null,
            "flex": null,
            "_model_name": "LayoutModel",
            "justify_items": null,
            "grid_row": null,
            "max_height": null,
            "align_content": null,
            "visibility": null,
            "align_self": null,
            "height": null,
            "min_height": null,
            "padding": null,
            "grid_auto_rows": null,
            "grid_gap": null,
            "max_width": null,
            "order": null,
            "_view_module_version": "1.2.0",
            "grid_template_areas": null,
            "object_position": null,
            "object_fit": null,
            "grid_auto_columns": null,
            "margin": null,
            "display": null,
            "left": null
          }
        },
        "c7c09ff749624a218370b9a77cc63988": {
          "model_module": "@jupyter-widgets/controls",
          "model_name": "HBoxModel",
          "state": {
            "_view_name": "HBoxView",
            "_dom_classes": [],
            "_model_name": "HBoxModel",
            "_view_module": "@jupyter-widgets/controls",
            "_model_module_version": "1.5.0",
            "_view_count": null,
            "_view_module_version": "1.5.0",
            "box_style": "",
            "layout": "IPY_MODEL_4384462b0a7b44faa0a12d0dc27e8fdd",
            "_model_module": "@jupyter-widgets/controls",
            "children": [
              "IPY_MODEL_337898ffe009446aafe73000bb90779d",
              "IPY_MODEL_6a2d7a0b1824442ab3a1bda7c4f7c32e"
            ]
          }
        },
        "4384462b0a7b44faa0a12d0dc27e8fdd": {
          "model_module": "@jupyter-widgets/base",
          "model_name": "LayoutModel",
          "state": {
            "_view_name": "LayoutView",
            "grid_template_rows": null,
            "right": null,
            "justify_content": null,
            "_view_module": "@jupyter-widgets/base",
            "overflow": null,
            "_model_module_version": "1.2.0",
            "_view_count": null,
            "flex_flow": null,
            "width": null,
            "min_width": null,
            "border": null,
            "align_items": null,
            "bottom": null,
            "_model_module": "@jupyter-widgets/base",
            "top": null,
            "grid_column": null,
            "overflow_y": null,
            "overflow_x": null,
            "grid_auto_flow": null,
            "grid_area": null,
            "grid_template_columns": null,
            "flex": null,
            "_model_name": "LayoutModel",
            "justify_items": null,
            "grid_row": null,
            "max_height": null,
            "align_content": null,
            "visibility": null,
            "align_self": null,
            "height": null,
            "min_height": null,
            "padding": null,
            "grid_auto_rows": null,
            "grid_gap": null,
            "max_width": null,
            "order": null,
            "_view_module_version": "1.2.0",
            "grid_template_areas": null,
            "object_position": null,
            "object_fit": null,
            "grid_auto_columns": null,
            "margin": null,
            "display": null,
            "left": null
          }
        },
        "337898ffe009446aafe73000bb90779d": {
          "model_module": "@jupyter-widgets/controls",
          "model_name": "FloatProgressModel",
          "state": {
            "_view_name": "ProgressView",
            "style": "IPY_MODEL_1b534618779b4b9195ab426f01f54642",
            "_dom_classes": [],
            "description": "Downloading: 100%",
            "_model_name": "FloatProgressModel",
            "bar_style": "success",
            "max": 570,
            "_view_module": "@jupyter-widgets/controls",
            "_model_module_version": "1.5.0",
            "value": 570,
            "_view_count": null,
            "_view_module_version": "1.5.0",
            "orientation": "horizontal",
            "min": 0,
            "description_tooltip": null,
            "_model_module": "@jupyter-widgets/controls",
            "layout": "IPY_MODEL_0672a8ff90354dfa8c8ee63d13c800c0"
          }
        },
        "6a2d7a0b1824442ab3a1bda7c4f7c32e": {
          "model_module": "@jupyter-widgets/controls",
          "model_name": "HTMLModel",
          "state": {
            "_view_name": "HTMLView",
            "style": "IPY_MODEL_e898c8544c3d4f97bbd268b9ca1b675c",
            "_dom_classes": [],
            "description": "",
            "_model_name": "HTMLModel",
            "placeholder": "​",
            "_view_module": "@jupyter-widgets/controls",
            "_model_module_version": "1.5.0",
            "value": " 570/570 [00:44&lt;00:00, 12.7B/s]",
            "_view_count": null,
            "_view_module_version": "1.5.0",
            "description_tooltip": null,
            "_model_module": "@jupyter-widgets/controls",
            "layout": "IPY_MODEL_25e3a4d9fa7e49b191be9ed4092d3a8b"
          }
        },
        "1b534618779b4b9195ab426f01f54642": {
          "model_module": "@jupyter-widgets/controls",
          "model_name": "ProgressStyleModel",
          "state": {
            "_view_name": "StyleView",
            "_model_name": "ProgressStyleModel",
            "description_width": "initial",
            "_view_module": "@jupyter-widgets/base",
            "_model_module_version": "1.5.0",
            "_view_count": null,
            "_view_module_version": "1.2.0",
            "bar_color": null,
            "_model_module": "@jupyter-widgets/controls"
          }
        },
        "0672a8ff90354dfa8c8ee63d13c800c0": {
          "model_module": "@jupyter-widgets/base",
          "model_name": "LayoutModel",
          "state": {
            "_view_name": "LayoutView",
            "grid_template_rows": null,
            "right": null,
            "justify_content": null,
            "_view_module": "@jupyter-widgets/base",
            "overflow": null,
            "_model_module_version": "1.2.0",
            "_view_count": null,
            "flex_flow": null,
            "width": null,
            "min_width": null,
            "border": null,
            "align_items": null,
            "bottom": null,
            "_model_module": "@jupyter-widgets/base",
            "top": null,
            "grid_column": null,
            "overflow_y": null,
            "overflow_x": null,
            "grid_auto_flow": null,
            "grid_area": null,
            "grid_template_columns": null,
            "flex": null,
            "_model_name": "LayoutModel",
            "justify_items": null,
            "grid_row": null,
            "max_height": null,
            "align_content": null,
            "visibility": null,
            "align_self": null,
            "height": null,
            "min_height": null,
            "padding": null,
            "grid_auto_rows": null,
            "grid_gap": null,
            "max_width": null,
            "order": null,
            "_view_module_version": "1.2.0",
            "grid_template_areas": null,
            "object_position": null,
            "object_fit": null,
            "grid_auto_columns": null,
            "margin": null,
            "display": null,
            "left": null
          }
        },
        "e898c8544c3d4f97bbd268b9ca1b675c": {
          "model_module": "@jupyter-widgets/controls",
          "model_name": "DescriptionStyleModel",
          "state": {
            "_view_name": "StyleView",
            "_model_name": "DescriptionStyleModel",
            "description_width": "",
            "_view_module": "@jupyter-widgets/base",
            "_model_module_version": "1.5.0",
            "_view_count": null,
            "_view_module_version": "1.2.0",
            "_model_module": "@jupyter-widgets/controls"
          }
        },
        "25e3a4d9fa7e49b191be9ed4092d3a8b": {
          "model_module": "@jupyter-widgets/base",
          "model_name": "LayoutModel",
          "state": {
            "_view_name": "LayoutView",
            "grid_template_rows": null,
            "right": null,
            "justify_content": null,
            "_view_module": "@jupyter-widgets/base",
            "overflow": null,
            "_model_module_version": "1.2.0",
            "_view_count": null,
            "flex_flow": null,
            "width": null,
            "min_width": null,
            "border": null,
            "align_items": null,
            "bottom": null,
            "_model_module": "@jupyter-widgets/base",
            "top": null,
            "grid_column": null,
            "overflow_y": null,
            "overflow_x": null,
            "grid_auto_flow": null,
            "grid_area": null,
            "grid_template_columns": null,
            "flex": null,
            "_model_name": "LayoutModel",
            "justify_items": null,
            "grid_row": null,
            "max_height": null,
            "align_content": null,
            "visibility": null,
            "align_self": null,
            "height": null,
            "min_height": null,
            "padding": null,
            "grid_auto_rows": null,
            "grid_gap": null,
            "max_width": null,
            "order": null,
            "_view_module_version": "1.2.0",
            "grid_template_areas": null,
            "object_position": null,
            "object_fit": null,
            "grid_auto_columns": null,
            "margin": null,
            "display": null,
            "left": null
          }
        },
        "7d564756ea2e481dac01e5bef5dd7b5c": {
          "model_module": "@jupyter-widgets/controls",
          "model_name": "HBoxModel",
          "state": {
            "_view_name": "HBoxView",
            "_dom_classes": [],
            "_model_name": "HBoxModel",
            "_view_module": "@jupyter-widgets/controls",
            "_model_module_version": "1.5.0",
            "_view_count": null,
            "_view_module_version": "1.5.0",
            "box_style": "",
            "layout": "IPY_MODEL_7725cb44d9be4ab995d1cae374e5b0e0",
            "_model_module": "@jupyter-widgets/controls",
            "children": [
              "IPY_MODEL_1c0f3d7856c0410894f485eb37c266e2",
              "IPY_MODEL_7c91be453159485b82deda24adcc4ee5"
            ]
          }
        },
        "7725cb44d9be4ab995d1cae374e5b0e0": {
          "model_module": "@jupyter-widgets/base",
          "model_name": "LayoutModel",
          "state": {
            "_view_name": "LayoutView",
            "grid_template_rows": null,
            "right": null,
            "justify_content": null,
            "_view_module": "@jupyter-widgets/base",
            "overflow": null,
            "_model_module_version": "1.2.0",
            "_view_count": null,
            "flex_flow": null,
            "width": null,
            "min_width": null,
            "border": null,
            "align_items": null,
            "bottom": null,
            "_model_module": "@jupyter-widgets/base",
            "top": null,
            "grid_column": null,
            "overflow_y": null,
            "overflow_x": null,
            "grid_auto_flow": null,
            "grid_area": null,
            "grid_template_columns": null,
            "flex": null,
            "_model_name": "LayoutModel",
            "justify_items": null,
            "grid_row": null,
            "max_height": null,
            "align_content": null,
            "visibility": null,
            "align_self": null,
            "height": null,
            "min_height": null,
            "padding": null,
            "grid_auto_rows": null,
            "grid_gap": null,
            "max_width": null,
            "order": null,
            "_view_module_version": "1.2.0",
            "grid_template_areas": null,
            "object_position": null,
            "object_fit": null,
            "grid_auto_columns": null,
            "margin": null,
            "display": null,
            "left": null
          }
        },
        "1c0f3d7856c0410894f485eb37c266e2": {
          "model_module": "@jupyter-widgets/controls",
          "model_name": "FloatProgressModel",
          "state": {
            "_view_name": "ProgressView",
            "style": "IPY_MODEL_08c3998423074f1aad6c5808d008e677",
            "_dom_classes": [],
            "description": "Downloading: 100%",
            "_model_name": "FloatProgressModel",
            "bar_style": "success",
            "max": 440473133,
            "_view_module": "@jupyter-widgets/controls",
            "_model_module_version": "1.5.0",
            "value": 440473133,
            "_view_count": null,
            "_view_module_version": "1.5.0",
            "orientation": "horizontal",
            "min": 0,
            "description_tooltip": null,
            "_model_module": "@jupyter-widgets/controls",
            "layout": "IPY_MODEL_f28547b7155241479704db7d53852b93"
          }
        },
        "7c91be453159485b82deda24adcc4ee5": {
          "model_module": "@jupyter-widgets/controls",
          "model_name": "HTMLModel",
          "state": {
            "_view_name": "HTMLView",
            "style": "IPY_MODEL_a179bff20bae44f896a1878194b5021e",
            "_dom_classes": [],
            "description": "",
            "_model_name": "HTMLModel",
            "placeholder": "​",
            "_view_module": "@jupyter-widgets/controls",
            "_model_module_version": "1.5.0",
            "value": " 440M/440M [00:16&lt;00:00, 26.5MB/s]",
            "_view_count": null,
            "_view_module_version": "1.5.0",
            "description_tooltip": null,
            "_model_module": "@jupyter-widgets/controls",
            "layout": "IPY_MODEL_0060fe1698de4fc99bcfde0d8e2be65c"
          }
        },
        "08c3998423074f1aad6c5808d008e677": {
          "model_module": "@jupyter-widgets/controls",
          "model_name": "ProgressStyleModel",
          "state": {
            "_view_name": "StyleView",
            "_model_name": "ProgressStyleModel",
            "description_width": "initial",
            "_view_module": "@jupyter-widgets/base",
            "_model_module_version": "1.5.0",
            "_view_count": null,
            "_view_module_version": "1.2.0",
            "bar_color": null,
            "_model_module": "@jupyter-widgets/controls"
          }
        },
        "f28547b7155241479704db7d53852b93": {
          "model_module": "@jupyter-widgets/base",
          "model_name": "LayoutModel",
          "state": {
            "_view_name": "LayoutView",
            "grid_template_rows": null,
            "right": null,
            "justify_content": null,
            "_view_module": "@jupyter-widgets/base",
            "overflow": null,
            "_model_module_version": "1.2.0",
            "_view_count": null,
            "flex_flow": null,
            "width": null,
            "min_width": null,
            "border": null,
            "align_items": null,
            "bottom": null,
            "_model_module": "@jupyter-widgets/base",
            "top": null,
            "grid_column": null,
            "overflow_y": null,
            "overflow_x": null,
            "grid_auto_flow": null,
            "grid_area": null,
            "grid_template_columns": null,
            "flex": null,
            "_model_name": "LayoutModel",
            "justify_items": null,
            "grid_row": null,
            "max_height": null,
            "align_content": null,
            "visibility": null,
            "align_self": null,
            "height": null,
            "min_height": null,
            "padding": null,
            "grid_auto_rows": null,
            "grid_gap": null,
            "max_width": null,
            "order": null,
            "_view_module_version": "1.2.0",
            "grid_template_areas": null,
            "object_position": null,
            "object_fit": null,
            "grid_auto_columns": null,
            "margin": null,
            "display": null,
            "left": null
          }
        },
        "a179bff20bae44f896a1878194b5021e": {
          "model_module": "@jupyter-widgets/controls",
          "model_name": "DescriptionStyleModel",
          "state": {
            "_view_name": "StyleView",
            "_model_name": "DescriptionStyleModel",
            "description_width": "",
            "_view_module": "@jupyter-widgets/base",
            "_model_module_version": "1.5.0",
            "_view_count": null,
            "_view_module_version": "1.2.0",
            "_model_module": "@jupyter-widgets/controls"
          }
        },
        "0060fe1698de4fc99bcfde0d8e2be65c": {
          "model_module": "@jupyter-widgets/base",
          "model_name": "LayoutModel",
          "state": {
            "_view_name": "LayoutView",
            "grid_template_rows": null,
            "right": null,
            "justify_content": null,
            "_view_module": "@jupyter-widgets/base",
            "overflow": null,
            "_model_module_version": "1.2.0",
            "_view_count": null,
            "flex_flow": null,
            "width": null,
            "min_width": null,
            "border": null,
            "align_items": null,
            "bottom": null,
            "_model_module": "@jupyter-widgets/base",
            "top": null,
            "grid_column": null,
            "overflow_y": null,
            "overflow_x": null,
            "grid_auto_flow": null,
            "grid_area": null,
            "grid_template_columns": null,
            "flex": null,
            "_model_name": "LayoutModel",
            "justify_items": null,
            "grid_row": null,
            "max_height": null,
            "align_content": null,
            "visibility": null,
            "align_self": null,
            "height": null,
            "min_height": null,
            "padding": null,
            "grid_auto_rows": null,
            "grid_gap": null,
            "max_width": null,
            "order": null,
            "_view_module_version": "1.2.0",
            "grid_template_areas": null,
            "object_position": null,
            "object_fit": null,
            "grid_auto_columns": null,
            "margin": null,
            "display": null,
            "left": null
          }
        }
      }
    },
    "colab": {
      "name": "fine-tuning-bert-for-sentiment-analysis.ipynb",
      "provenance": [],
      "toc_visible": true
    },
    "accelerator": "GPU"
  },
  "cells": [
    {
      "cell_type": "markdown",
      "metadata": {
        "papermill": {
          "duration": 0.028468,
          "end_time": "2021-01-08T15:04:52.561437",
          "exception": false,
          "start_time": "2021-01-08T15:04:52.532969",
          "status": "completed"
        },
        "tags": [],
        "id": "v-s2yamzppJ6"
      },
      "source": [
        "![](https://www.researchgate.net/publication/340223686/figure/fig1/AS:873545626308609@1585280915468/BERT-Original-sentence-how-are-you-doing-today.ppm)"
      ]
    },
    {
      "cell_type": "markdown",
      "metadata": {
        "papermill": {
          "duration": 0.028039,
          "end_time": "2021-01-08T15:04:52.616685",
          "exception": false,
          "start_time": "2021-01-08T15:04:52.588646",
          "status": "completed"
        },
        "tags": [],
        "id": "9dK1E2OwppJ9"
      },
      "source": [
        "<div style=\"color:white;\n",
        "           display:fill;\n",
        "           border-radius:5px;\n",
        "           background-color:#ffc299;\n",
        "           font-size:110%;\n",
        "           font-family:Verdana;\n",
        "           letter-spacing:0.5px\">\n",
        "\n",
        "<h1 style=\"text-align: center;\n",
        "           padding: 10px;\n",
        "           color:white;\">\n",
        "\n",
        "Library Loading\n",
        "</h1>\n",
        "</div>"
      ]
    },
    {
      "cell_type": "code",
      "metadata": {
        "papermill": {
          "duration": 1.567583,
          "end_time": "2021-01-08T15:04:54.212618",
          "exception": false,
          "start_time": "2021-01-08T15:04:52.645035",
          "status": "completed"
        },
        "tags": [],
        "id": "RClm0cHeppJ-"
      },
      "source": [
        "import numpy as np\n",
        "import pandas as pd\n",
        "import re\n",
        "\n",
        "import matplotlib.pyplot as plt\n",
        "import seaborn as sns\n",
        "sns.set_style(\"darkgrid\")\n",
        "\n",
        "import string\n",
        "from wordcloud import WordCloud\n",
        "from nltk import word_tokenize\n",
        "from nltk.corpus import stopwords\n",
        "from nltk.stem import WordNetLemmatizer\n",
        "\n",
        "from sklearn.metrics import confusion_matrix, f1_score\n",
        "from tqdm import tqdm"
      ],
      "execution_count": 1,
      "outputs": []
    },
    {
      "cell_type": "markdown",
      "metadata": {
        "papermill": {
          "duration": 0.061261,
          "end_time": "2021-01-08T15:04:54.304080",
          "exception": false,
          "start_time": "2021-01-08T15:04:54.242819",
          "status": "completed"
        },
        "tags": [],
        "id": "SmH_CnmMppJ_"
      },
      "source": [
        "<div style=\"color:white;\n",
        "           display:fill;\n",
        "           border-radius:5px;\n",
        "           background-color:#ffc299;\n",
        "           font-size:110%;\n",
        "           font-family:Verdana;\n",
        "           letter-spacing:0.5px\">\n",
        "\n",
        "<h1 style=\"text-align: center;\n",
        "           padding: 10px;\n",
        "           color:white;\">\n",
        "\n",
        "Train Data\n",
        "</h1>\n",
        "</div>"
      ]
    },
    {
      "cell_type": "code",
      "metadata": {
        "_cell_guid": "79c7e3d0-c299-4dcb-8224-4455121ee9b0",
        "_uuid": "d629ff2d2480ee46fbb7e2d37f6b5fab8052498a",
        "papermill": {
          "duration": 0.094895,
          "end_time": "2021-01-08T15:04:54.426262",
          "exception": false,
          "start_time": "2021-01-08T15:04:54.331367",
          "status": "completed"
        },
        "tags": [],
        "colab": {
          "base_uri": "https://localhost:8080/"
        },
        "id": "VH7YX57HppJ_",
        "outputId": "b0621435-c773-40ee-8312-6e6a4dc7d753"
      },
      "source": [
        "from google.colab import drive\n",
        "drive.mount('/content/drive')\n",
        "\n",
        "data_dir = \"/content/drive/MyDrive/sentiment_analysis/IMDB_Dataset.csv\"\n",
        "# train_data, test_data = loadDataset(data_dir)\n",
        "df = pd.read_csv(data_dir)\n"
      ],
      "execution_count": 2,
      "outputs": [
        {
          "output_type": "stream",
          "text": [
            "Mounted at /content/drive\n"
          ],
          "name": "stdout"
        }
      ]
    },
    {
      "cell_type": "code",
      "metadata": {
        "id": "ATemsV0LppKB"
      },
      "source": [
        "\n",
        "from sklearn.preprocessing import LabelEncoder\n",
        "le = LabelEncoder()\n",
        "\n",
        "df.sentiment = le.fit_transform(df.sentiment)"
      ],
      "execution_count": 3,
      "outputs": []
    },
    {
      "cell_type": "code",
      "metadata": {
        "papermill": {
          "duration": 0.066185,
          "end_time": "2021-01-08T15:04:54.864569",
          "exception": false,
          "start_time": "2021-01-08T15:04:54.798384",
          "status": "completed"
        },
        "tags": [],
        "id": "vT9i2rXDppKB"
      },
      "source": [
        "df_train = df[:40000]\n",
        "df_test=df[40000:]"
      ],
      "execution_count": 4,
      "outputs": []
    },
    {
      "cell_type": "code",
      "metadata": {
        "papermill": {
          "duration": 0.039865,
          "end_time": "2021-01-08T15:04:54.934695",
          "exception": false,
          "start_time": "2021-01-08T15:04:54.894830",
          "status": "completed"
        },
        "tags": [],
        "id": "LY_2ueUwppKC"
      },
      "source": [
        "from sklearn.model_selection import train_test_split\n",
        "\n",
        "X = df_train.review.values\n",
        "y = df_train.sentiment.values\n",
        "\n",
        "X_train, X_val, y_train, y_val =\\\n",
        "    train_test_split(X, y, test_size=0.1, random_state=2020)"
      ],
      "execution_count": 5,
      "outputs": []
    },
    {
      "cell_type": "code",
      "metadata": {
        "papermill": {
          "duration": 0.046129,
          "end_time": "2021-01-08T15:04:55.011245",
          "exception": false,
          "start_time": "2021-01-08T15:04:54.965116",
          "status": "completed"
        },
        "tags": [],
        "colab": {
          "base_uri": "https://localhost:8080/",
          "height": 204
        },
        "id": "VFISHMzoppKC",
        "outputId": "eee4136e-7d30-4783-9b0b-da001f85cfa2"
      },
      "source": [
        "# Keep important columns\n",
        "test_data = df_test[['review', 'sentiment']]\n",
        "\n",
        "# Display 5 samples from the test data\n",
        "test_data.sample(5)"
      ],
      "execution_count": 6,
      "outputs": [
        {
          "output_type": "execute_result",
          "data": {
            "text/html": [
              "<div>\n",
              "<style scoped>\n",
              "    .dataframe tbody tr th:only-of-type {\n",
              "        vertical-align: middle;\n",
              "    }\n",
              "\n",
              "    .dataframe tbody tr th {\n",
              "        vertical-align: top;\n",
              "    }\n",
              "\n",
              "    .dataframe thead th {\n",
              "        text-align: right;\n",
              "    }\n",
              "</style>\n",
              "<table border=\"1\" class=\"dataframe\">\n",
              "  <thead>\n",
              "    <tr style=\"text-align: right;\">\n",
              "      <th></th>\n",
              "      <th>review</th>\n",
              "      <th>sentiment</th>\n",
              "    </tr>\n",
              "  </thead>\n",
              "  <tbody>\n",
              "    <tr>\n",
              "      <th>49470</th>\n",
              "      <td>I have had more boring stretches of 80 minutes...</td>\n",
              "      <td>0</td>\n",
              "    </tr>\n",
              "    <tr>\n",
              "      <th>43214</th>\n",
              "      <td>This film exhibits artful cinematic techniques...</td>\n",
              "      <td>1</td>\n",
              "    </tr>\n",
              "    <tr>\n",
              "      <th>49677</th>\n",
              "      <td>The third Muppet movie is perhaps the most rel...</td>\n",
              "      <td>1</td>\n",
              "    </tr>\n",
              "    <tr>\n",
              "      <th>45640</th>\n",
              "      <td>What a shame that Alan Clarke has to be associ...</td>\n",
              "      <td>0</td>\n",
              "    </tr>\n",
              "    <tr>\n",
              "      <th>41608</th>\n",
              "      <td>This movie wasn't just bad - it was terrible. ...</td>\n",
              "      <td>0</td>\n",
              "    </tr>\n",
              "  </tbody>\n",
              "</table>\n",
              "</div>"
            ],
            "text/plain": [
              "                                                  review  sentiment\n",
              "49470  I have had more boring stretches of 80 minutes...          0\n",
              "43214  This film exhibits artful cinematic techniques...          1\n",
              "49677  The third Muppet movie is perhaps the most rel...          1\n",
              "45640  What a shame that Alan Clarke has to be associ...          0\n",
              "41608  This movie wasn't just bad - it was terrible. ...          0"
            ]
          },
          "metadata": {
            "tags": []
          },
          "execution_count": 6
        }
      ]
    },
    {
      "cell_type": "code",
      "metadata": {
        "papermill": {
          "duration": 1.621536,
          "end_time": "2021-01-08T15:04:56.663141",
          "exception": false,
          "start_time": "2021-01-08T15:04:55.041605",
          "status": "completed"
        },
        "tags": [],
        "colab": {
          "base_uri": "https://localhost:8080/"
        },
        "id": "HpwzzoZZppKD",
        "outputId": "54690762-4b9e-4c2d-85b3-fef9e5d7fea6"
      },
      "source": [
        "import torch\n",
        "\n",
        "if torch.cuda.is_available():       \n",
        "    device = torch.device(\"cuda\")\n",
        "    print(f'There are {torch.cuda.device_count()} GPU(s) available.')\n",
        "    print('Device name:', torch.cuda.get_device_name(0))\n",
        "\n",
        "else:\n",
        "    print('No GPU available, using the CPU instead.')\n",
        "    device = torch.device(\"cpu\")"
      ],
      "execution_count": 7,
      "outputs": [
        {
          "output_type": "stream",
          "text": [
            "There are 1 GPU(s) available.\n",
            "Device name: Tesla T4\n"
          ],
          "name": "stdout"
        }
      ]
    },
    {
      "cell_type": "markdown",
      "metadata": {
        "papermill": {
          "duration": 0.041358,
          "end_time": "2021-01-08T15:05:21.936832",
          "exception": false,
          "start_time": "2021-01-08T15:05:21.895474",
          "status": "completed"
        },
        "tags": [],
        "id": "PsHW-zozppKE"
      },
      "source": [
        "<div style=\"color:white;\n",
        "           display:fill;\n",
        "           border-radius:5px;\n",
        "           background-color:#ffc299;\n",
        "           font-size:110%;\n",
        "           font-family:Verdana;\n",
        "           letter-spacing:0.5px\">\n",
        "\n",
        "<h1 style=\"text-align: center;\n",
        "           padding: 10px;\n",
        "           color:white;\">\n",
        "\n",
        "D - Fine-tuning BERT\n",
        "</h1>\n",
        "</div>"
      ]
    },
    {
      "cell_type": "markdown",
      "metadata": {
        "papermill": {
          "duration": 0.040605,
          "end_time": "2021-01-08T15:05:22.018359",
          "exception": false,
          "start_time": "2021-01-08T15:05:21.977754",
          "status": "completed"
        },
        "tags": [],
        "id": "jNLreeGOppKE"
      },
      "source": [
        "**1. Install the Hugging Face Library**"
      ]
    },
    {
      "cell_type": "markdown",
      "metadata": {
        "papermill": {
          "duration": 0.040799,
          "end_time": "2021-01-08T15:05:22.099999",
          "exception": false,
          "start_time": "2021-01-08T15:05:22.059200",
          "status": "completed"
        },
        "tags": [],
        "id": "ofnw05G6ppKE"
      },
      "source": [
        "The transformer library of Hugging Face contains PyTorch implementation of state-of-the-art NLP models including BERT (from Google), GPT (from OpenAI) ... and pre-trained model weights."
      ]
    },
    {
      "cell_type": "code",
      "metadata": {
        "papermill": {
          "duration": 7.616976,
          "end_time": "2021-01-08T15:05:29.759141",
          "exception": false,
          "start_time": "2021-01-08T15:05:22.142165",
          "status": "completed"
        },
        "tags": [],
        "colab": {
          "base_uri": "https://localhost:8080/"
        },
        "id": "8SW2ulATppKF",
        "outputId": "ca503441-6bba-4e0c-eabf-bff7e566eef5"
      },
      "source": [
        "!pip install transformers"
      ],
      "execution_count": 8,
      "outputs": [
        {
          "output_type": "stream",
          "text": [
            "Collecting transformers\n",
            "\u001b[?25l  Downloading https://files.pythonhosted.org/packages/fd/1a/41c644c963249fd7f3836d926afa1e3f1cc234a1c40d80c5f03ad8f6f1b2/transformers-4.8.2-py3-none-any.whl (2.5MB)\n",
            "\u001b[K     |████████████████████████████████| 2.5MB 7.4MB/s \n",
            "\u001b[?25hRequirement already satisfied: filelock in /usr/local/lib/python3.7/dist-packages (from transformers) (3.0.12)\n",
            "Requirement already satisfied: regex!=2019.12.17 in /usr/local/lib/python3.7/dist-packages (from transformers) (2019.12.20)\n",
            "Requirement already satisfied: tqdm>=4.27 in /usr/local/lib/python3.7/dist-packages (from transformers) (4.41.1)\n",
            "Requirement already satisfied: importlib-metadata; python_version < \"3.8\" in /usr/local/lib/python3.7/dist-packages (from transformers) (4.5.0)\n",
            "Collecting huggingface-hub==0.0.12\n",
            "  Downloading https://files.pythonhosted.org/packages/2f/ee/97e253668fda9b17e968b3f97b2f8e53aa0127e8807d24a547687423fe0b/huggingface_hub-0.0.12-py3-none-any.whl\n",
            "Requirement already satisfied: packaging in /usr/local/lib/python3.7/dist-packages (from transformers) (20.9)\n",
            "Requirement already satisfied: requests in /usr/local/lib/python3.7/dist-packages (from transformers) (2.23.0)\n",
            "Collecting sacremoses\n",
            "\u001b[?25l  Downloading https://files.pythonhosted.org/packages/75/ee/67241dc87f266093c533a2d4d3d69438e57d7a90abb216fa076e7d475d4a/sacremoses-0.0.45-py3-none-any.whl (895kB)\n",
            "\u001b[K     |████████████████████████████████| 901kB 48.9MB/s \n",
            "\u001b[?25hRequirement already satisfied: numpy>=1.17 in /usr/local/lib/python3.7/dist-packages (from transformers) (1.19.5)\n",
            "Collecting tokenizers<0.11,>=0.10.1\n",
            "\u001b[?25l  Downloading https://files.pythonhosted.org/packages/d4/e2/df3543e8ffdab68f5acc73f613de9c2b155ac47f162e725dcac87c521c11/tokenizers-0.10.3-cp37-cp37m-manylinux_2_5_x86_64.manylinux1_x86_64.manylinux_2_12_x86_64.manylinux2010_x86_64.whl (3.3MB)\n",
            "\u001b[K     |████████████████████████████████| 3.3MB 47.8MB/s \n",
            "\u001b[?25hRequirement already satisfied: pyyaml in /usr/local/lib/python3.7/dist-packages (from transformers) (3.13)\n",
            "Requirement already satisfied: typing-extensions>=3.6.4; python_version < \"3.8\" in /usr/local/lib/python3.7/dist-packages (from importlib-metadata; python_version < \"3.8\"->transformers) (3.7.4.3)\n",
            "Requirement already satisfied: zipp>=0.5 in /usr/local/lib/python3.7/dist-packages (from importlib-metadata; python_version < \"3.8\"->transformers) (3.4.1)\n",
            "Requirement already satisfied: pyparsing>=2.0.2 in /usr/local/lib/python3.7/dist-packages (from packaging->transformers) (2.4.7)\n",
            "Requirement already satisfied: urllib3!=1.25.0,!=1.25.1,<1.26,>=1.21.1 in /usr/local/lib/python3.7/dist-packages (from requests->transformers) (1.24.3)\n",
            "Requirement already satisfied: idna<3,>=2.5 in /usr/local/lib/python3.7/dist-packages (from requests->transformers) (2.10)\n",
            "Requirement already satisfied: chardet<4,>=3.0.2 in /usr/local/lib/python3.7/dist-packages (from requests->transformers) (3.0.4)\n",
            "Requirement already satisfied: certifi>=2017.4.17 in /usr/local/lib/python3.7/dist-packages (from requests->transformers) (2021.5.30)\n",
            "Requirement already satisfied: joblib in /usr/local/lib/python3.7/dist-packages (from sacremoses->transformers) (1.0.1)\n",
            "Requirement already satisfied: click in /usr/local/lib/python3.7/dist-packages (from sacremoses->transformers) (7.1.2)\n",
            "Requirement already satisfied: six in /usr/local/lib/python3.7/dist-packages (from sacremoses->transformers) (1.15.0)\n",
            "Installing collected packages: huggingface-hub, sacremoses, tokenizers, transformers\n",
            "Successfully installed huggingface-hub-0.0.12 sacremoses-0.0.45 tokenizers-0.10.3 transformers-4.8.2\n"
          ],
          "name": "stdout"
        }
      ]
    },
    {
      "cell_type": "markdown",
      "metadata": {
        "papermill": {
          "duration": 0.042821,
          "end_time": "2021-01-08T15:05:29.846090",
          "exception": false,
          "start_time": "2021-01-08T15:05:29.803269",
          "status": "completed"
        },
        "tags": [],
        "id": "lUZSRGP4ppKF"
      },
      "source": [
        "**2. Tokenization and Input Formatting**"
      ]
    },
    {
      "cell_type": "markdown",
      "metadata": {
        "papermill": {
          "duration": 0.042706,
          "end_time": "2021-01-08T15:05:29.932038",
          "exception": false,
          "start_time": "2021-01-08T15:05:29.889332",
          "status": "completed"
        },
        "tags": [],
        "id": "Ym0bMWc2ppKG"
      },
      "source": [
        "Before tokenizing our text, we will perform some slight processing on our text including removing entity mentions (eg. @united) and some special character. The level of processing here is much less than in previous approachs because BERT was trained with the entire sentences."
      ]
    },
    {
      "cell_type": "code",
      "metadata": {
        "papermill": {
          "duration": 0.051992,
          "end_time": "2021-01-08T15:05:30.026524",
          "exception": false,
          "start_time": "2021-01-08T15:05:29.974532",
          "status": "completed"
        },
        "tags": [],
        "id": "IKYP0v6EppKG"
      },
      "source": [
        "def text_preprocessing(text):\n",
        "    \"\"\"\n",
        "    - Remove entity mentions (eg. '@united')\n",
        "    - Correct errors (eg. '&amp;' to '&')\n",
        "    @param    text (str): a string to be processed.\n",
        "    @return   text (Str): the processed string.\n",
        "    \"\"\"\n",
        "    # Remove '@name'\n",
        "    text = re.sub(r'(@.*?)[\\s]', ' ', text)\n",
        "\n",
        "    # Replace '&amp;' with '&'\n",
        "    text = re.sub(r'&amp;', '&', text)\n",
        "\n",
        "    # Remove trailing whitespace\n",
        "    text = re.sub(r'\\s+', ' ', text).strip()\n",
        "\n",
        "    return text"
      ],
      "execution_count": 9,
      "outputs": []
    },
    {
      "cell_type": "code",
      "metadata": {
        "papermill": {
          "duration": 0.05683,
          "end_time": "2021-01-08T15:05:30.126071",
          "exception": false,
          "start_time": "2021-01-08T15:05:30.069241",
          "status": "completed"
        },
        "tags": [],
        "colab": {
          "base_uri": "https://localhost:8080/"
        },
        "id": "mwSyPVfgppKG",
        "outputId": "bccee1ea-fce8-4c7b-9141-79026815184c"
      },
      "source": [
        "# Print sentence 0\n",
        "print('Original: ', X[0])\n",
        "print('Processed: ', text_preprocessing(X[0]))"
      ],
      "execution_count": 10,
      "outputs": [
        {
          "output_type": "stream",
          "text": [
            "Original:  One of the other reviewers has mentioned that after watching just 1 Oz episode you'll be hooked. They are right, as this is exactly what happened with me.<br /><br />The first thing that struck me about Oz was its brutality and unflinching scenes of violence, which set in right from the word GO. Trust me, this is not a show for the faint hearted or timid. This show pulls no punches with regards to drugs, sex or violence. Its is hardcore, in the classic use of the word.<br /><br />It is called OZ as that is the nickname given to the Oswald Maximum Security State Penitentary. It focuses mainly on Emerald City, an experimental section of the prison where all the cells have glass fronts and face inwards, so privacy is not high on the agenda. Em City is home to many..Aryans, Muslims, gangstas, Latinos, Christians, Italians, Irish and more....so scuffles, death stares, dodgy dealings and shady agreements are never far away.<br /><br />I would say the main appeal of the show is due to the fact that it goes where other shows wouldn't dare. Forget pretty pictures painted for mainstream audiences, forget charm, forget romance...OZ doesn't mess around. The first episode I ever saw struck me as so nasty it was surreal, I couldn't say I was ready for it, but as I watched more, I developed a taste for Oz, and got accustomed to the high levels of graphic violence. Not just violence, but injustice (crooked guards who'll be sold out for a nickel, inmates who'll kill on order and get away with it, well mannered, middle class inmates being turned into prison bitches due to their lack of street skills or prison experience) Watching Oz, you may become comfortable with what is uncomfortable viewing....thats if you can get in touch with your darker side.\n",
            "Processed:  One of the other reviewers has mentioned that after watching just 1 Oz episode you'll be hooked. They are right, as this is exactly what happened with me.<br /><br />The first thing that struck me about Oz was its brutality and unflinching scenes of violence, which set in right from the word GO. Trust me, this is not a show for the faint hearted or timid. This show pulls no punches with regards to drugs, sex or violence. Its is hardcore, in the classic use of the word.<br /><br />It is called OZ as that is the nickname given to the Oswald Maximum Security State Penitentary. It focuses mainly on Emerald City, an experimental section of the prison where all the cells have glass fronts and face inwards, so privacy is not high on the agenda. Em City is home to many..Aryans, Muslims, gangstas, Latinos, Christians, Italians, Irish and more....so scuffles, death stares, dodgy dealings and shady agreements are never far away.<br /><br />I would say the main appeal of the show is due to the fact that it goes where other shows wouldn't dare. Forget pretty pictures painted for mainstream audiences, forget charm, forget romance...OZ doesn't mess around. The first episode I ever saw struck me as so nasty it was surreal, I couldn't say I was ready for it, but as I watched more, I developed a taste for Oz, and got accustomed to the high levels of graphic violence. Not just violence, but injustice (crooked guards who'll be sold out for a nickel, inmates who'll kill on order and get away with it, well mannered, middle class inmates being turned into prison bitches due to their lack of street skills or prison experience) Watching Oz, you may become comfortable with what is uncomfortable viewing....thats if you can get in touch with your darker side.\n"
          ],
          "name": "stdout"
        }
      ]
    },
    {
      "cell_type": "markdown",
      "metadata": {
        "papermill": {
          "duration": 0.043737,
          "end_time": "2021-01-08T15:05:30.213574",
          "exception": false,
          "start_time": "2021-01-08T15:05:30.169837",
          "status": "completed"
        },
        "tags": [],
        "id": "QPtYWk-vppKH"
      },
      "source": [
        "**2.1. BERT Tokenizer**"
      ]
    },
    {
      "cell_type": "code",
      "metadata": {
        "papermill": {
          "duration": 7.599854,
          "end_time": "2021-01-08T15:05:37.856681",
          "exception": false,
          "start_time": "2021-01-08T15:05:30.256827",
          "status": "completed"
        },
        "tags": [],
        "colab": {
          "base_uri": "https://localhost:8080/",
          "height": 164,
          "referenced_widgets": [
            "85f45fb8d45e4ce5a98311fb10036421",
            "ce3f25bfd2a84653bcde0361ef6c80f4",
            "b8edb5af94f24b5fb7aef8a6f9dea613",
            "86ee29f4c4d3425bbc461ad2deb244ee",
            "0e022169e9e944dc9db183f9487d779a",
            "8411fc892c104daaa5c0c3a66677bc93",
            "c919059046344d32988752ba8bd925f6",
            "c0e42c50ac5d4058ae16fb24e26fdaa0",
            "bea2465624374b66b3fb0b896400ef55",
            "67c9fb0aaffb4bf18cc11953271760ee",
            "55ad87ea266b455eb5f2a3f9ae0b41de",
            "5518ecc0720142358548383be9162e2b",
            "5b7889c5877542929148cd8171b3ab52",
            "a76a21e06c3d462aa0c053bc8842f57d",
            "b03f77be50824128bcd0cfc8e5729a2c",
            "231d037d0bd0485ab4f3b4621d796bdf",
            "dfabe8196e1f41ea8214d0fb63e1748d",
            "c04ce864d6c74e089ee3392431c141b5",
            "ac69cb8e54874b62a3f36e798e2d12e8",
            "8566dc0eda8546ea8d1dc83ac0818c46",
            "4a69c35863c9430094b2c13d8d78454e",
            "7c89470cff264ff1a4c9fc7b8ea85ed8",
            "1874f95a9b5d4bceb964362af99030f2",
            "9d66e408b0684cf78fe56f568683c2f5"
          ]
        },
        "id": "v1ClXhw8ppKH",
        "outputId": "7cffc66a-cc24-4999-d514-95f6332eebf8"
      },
      "source": [
        "from transformers import BertTokenizer\n",
        "\n",
        "# Load the BERT tokenizer\n",
        "tokenizer = BertTokenizer.from_pretrained('bert-base-uncased', do_lower_case=True)\n",
        "\n",
        "# Create a function to tokenize a set of texts\n",
        "def preprocessing_for_bert(data):\n",
        "    \"\"\"Perform required preprocessing steps for pretrained BERT.\n",
        "    @param    data (np.array): Array of texts to be processed.\n",
        "    @return   input_ids (torch.Tensor): Tensor of token ids to be fed to a model.\n",
        "    @return   attention_masks (torch.Tensor): Tensor of indices specifying which\n",
        "                  tokens should be attended to by the model.\n",
        "    \"\"\"\n",
        "    # Create empty lists to store outputs\n",
        "    input_ids = []\n",
        "    attention_masks = []\n",
        "\n",
        "    # For every sentence...\n",
        "    for sent in data:\n",
        "        # `encode_plus` will:\n",
        "        #    (1) Tokenize the sentence\n",
        "        #    (2) Add the `[CLS]` and `[SEP]` token to the start and end\n",
        "        #    (3) Truncate/Pad sentence to max length\n",
        "        #    (4) Map tokens to their IDs\n",
        "        #    (5) Create attention mask\n",
        "        #    (6) Return a dictionary of outputs\n",
        "        encoded_sent = tokenizer.encode_plus(\n",
        "            text=text_preprocessing(sent),  # Preprocess sentence\n",
        "            add_special_tokens=True,        # Add `[CLS]` and `[SEP]`\n",
        "            max_length=MAX_LEN,                  # Max length to truncate/pad\n",
        "            pad_to_max_length=True,         # Pad sentence to max length\n",
        "            #return_tensors='pt',           # Return PyTorch tensor\n",
        "            return_attention_mask=True      # Return attention mask\n",
        "            )\n",
        "        \n",
        "        # Add the outputs to the lists\n",
        "        input_ids.append(encoded_sent.get('input_ids'))\n",
        "        attention_masks.append(encoded_sent.get('attention_mask'))\n",
        "\n",
        "    # Convert lists to tensors\n",
        "    input_ids = torch.tensor(input_ids)\n",
        "    attention_masks = torch.tensor(attention_masks)\n",
        "\n",
        "    return input_ids, attention_masks"
      ],
      "execution_count": 11,
      "outputs": [
        {
          "output_type": "display_data",
          "data": {
            "application/vnd.jupyter.widget-view+json": {
              "model_id": "85f45fb8d45e4ce5a98311fb10036421",
              "version_minor": 0,
              "version_major": 2
            },
            "text/plain": [
              "HBox(children=(FloatProgress(value=0.0, description='Downloading', max=231508.0, style=ProgressStyle(descripti…"
            ]
          },
          "metadata": {
            "tags": []
          }
        },
        {
          "output_type": "stream",
          "text": [
            "\n"
          ],
          "name": "stdout"
        },
        {
          "output_type": "display_data",
          "data": {
            "application/vnd.jupyter.widget-view+json": {
              "model_id": "bea2465624374b66b3fb0b896400ef55",
              "version_minor": 0,
              "version_major": 2
            },
            "text/plain": [
              "HBox(children=(FloatProgress(value=0.0, description='Downloading', max=28.0, style=ProgressStyle(description_w…"
            ]
          },
          "metadata": {
            "tags": []
          }
        },
        {
          "output_type": "stream",
          "text": [
            "\n"
          ],
          "name": "stdout"
        },
        {
          "output_type": "display_data",
          "data": {
            "application/vnd.jupyter.widget-view+json": {
              "model_id": "dfabe8196e1f41ea8214d0fb63e1748d",
              "version_minor": 0,
              "version_major": 2
            },
            "text/plain": [
              "HBox(children=(FloatProgress(value=0.0, description='Downloading', max=466062.0, style=ProgressStyle(descripti…"
            ]
          },
          "metadata": {
            "tags": []
          }
        },
        {
          "output_type": "stream",
          "text": [
            "\n"
          ],
          "name": "stdout"
        }
      ]
    },
    {
      "cell_type": "code",
      "metadata": {
        "papermill": {
          "duration": 8.577013,
          "end_time": "2021-01-08T15:05:46.480265",
          "exception": false,
          "start_time": "2021-01-08T15:05:37.903252",
          "status": "completed"
        },
        "tags": [],
        "colab": {
          "base_uri": "https://localhost:8080/"
        },
        "id": "v8xbuC-yppKI",
        "outputId": "7aab1020-7248-442f-e5c4-ef8ebb473c42"
      },
      "source": [
        "# Concatenate train data and test data\n",
        "all_reviews = np.concatenate([df_train.review.values, df_test.review.values])\n",
        "\n",
        "# Encode our concatenated data\n",
        "encoded_reviews = [tokenizer.encode(sent, add_special_tokens=True) for sent in all_reviews]\n",
        "\n",
        "# Find the maximum length\n",
        "max_len = max([len(sent) for sent in encoded_reviews])\n",
        "print('Max length: ', max_len)"
      ],
      "execution_count": 12,
      "outputs": [
        {
          "output_type": "stream",
          "text": [
            "Token indices sequence length is longer than the specified maximum sequence length for this model (563 > 512). Running this sequence through the model will result in indexing errors\n"
          ],
          "name": "stderr"
        },
        {
          "output_type": "stream",
          "text": [
            "Max length:  3157\n"
          ],
          "name": "stdout"
        }
      ]
    },
    {
      "cell_type": "code",
      "metadata": {
        "colab": {
          "base_uri": "https://localhost:8080/",
          "height": 282
        },
        "id": "Su5GmJsfACm9",
        "outputId": "2e843869-a730-4dc5-9cea-168307183d48"
      },
      "source": [
        "seq_len = [len(i) for i in encoded_reviews]\n",
        "\n",
        "pd.Series(seq_len).hist(bins = 30)"
      ],
      "execution_count": 13,
      "outputs": [
        {
          "output_type": "execute_result",
          "data": {
            "text/plain": [
              "<matplotlib.axes._subplots.AxesSubplot at 0x7fb9c4f9e650>"
            ]
          },
          "metadata": {
            "tags": []
          },
          "execution_count": 13
        },
        {
          "output_type": "display_data",
          "data": {
            "image/png": "[encoded data removed]",
            "text/plain": [
              "<Figure size 432x288 with 1 Axes>"
            ]
          },
          "metadata": {
            "tags": [],
            "needs_background": "light"
          }
        }
      ]
    },
    {
      "cell_type": "code",
      "metadata": {
        "colab": {
          "base_uri": "https://localhost:8080/",
          "height": 350
        },
        "id": "YDfHq5oMBWl0",
        "outputId": "38ee1df9-1250-4604-9e76-8fe1547b6929"
      },
      "source": [
        "from collections import Counter\n",
        "import pandas\n",
        "import seaborn as sns\n",
        "\n",
        "sns.set_style('darkgrid')\n",
        "sns.distplot(seq_len, axlabel='length of sentences')\n",
        "# df = pd.DataFrame({'freq': seq_len})\n",
        "# df.groupby('freq', as_index=False).size().plot(kind='bar')\n",
        "# plt.show()"
      ],
      "execution_count": 14,
      "outputs": [
        {
          "output_type": "stream",
          "text": [
            "/usr/local/lib/python3.7/dist-packages/seaborn/distributions.py:2557: FutureWarning: `distplot` is a deprecated function and will be removed in a future version. Please adapt your code to use either `displot` (a figure-level function with similar flexibility) or `histplot` (an axes-level function for histograms).\n",
            "  warnings.warn(msg, FutureWarning)\n"
          ],
          "name": "stderr"
        },
        {
          "output_type": "execute_result",
          "data": {
            "text/plain": [
              "<matplotlib.axes._subplots.AxesSubplot at 0x7fb9c499e450>"
            ]
          },
          "metadata": {
            "tags": []
          },
          "execution_count": 14
        },
        {
          "output_type": "display_data",
          "data": {
            "image/png": "[encoded data removed]",
            "text/plain": [
              "<Figure size 432x288 with 1 Axes>"
            ]
          },
          "metadata": {
            "tags": []
          }
        }
      ]
    },
    {
      "cell_type": "code",
      "metadata": {
        "papermill": {
          "duration": 5.886922,
          "end_time": "2021-01-08T15:05:52.411755",
          "exception": false,
          "start_time": "2021-01-08T15:05:46.524833",
          "status": "completed"
        },
        "tags": [],
        "colab": {
          "base_uri": "https://localhost:8080/"
        },
        "id": "GEpYOaEippKJ",
        "outputId": "93420311-b7be-4626-8160-532225f2af6d"
      },
      "source": [
        "MAX_LEN =310\n",
        "\n",
        "# Print sentence 0 and its encoded token ids\n",
        "token_ids = list(preprocessing_for_bert([X[0]])[0].squeeze().numpy())\n",
        "print('Original: ', X[0])\n",
        "print('Token IDs: ', token_ids)\n",
        "\n",
        "# Run function `preprocessing_for_bert` on the train set and the validation set\n",
        "print('Tokenizing data...')\n",
        "train_inputs, train_masks = preprocessing_for_bert(X_train)\n",
        "val_inputs, val_masks = preprocessing_for_bert(X_val)"
      ],
      "execution_count": 15,
      "outputs": [
        {
          "output_type": "stream",
          "text": [
            "Truncation was not explicitly activated but `max_length` is provided a specific value, please use `truncation=True` to explicitly truncate examples to max length. Defaulting to 'longest_first' truncation strategy. If you encode pairs of sequences (GLUE-style) with the tokenizer you can select this strategy more precisely by providing a specific strategy to `truncation`.\n",
            "/usr/local/lib/python3.7/dist-packages/transformers/tokenization_utils_base.py:2132: FutureWarning: The `pad_to_max_length` argument is deprecated and will be removed in a future version, use `padding=True` or `padding='longest'` to pad to the longest sequence in the batch, or use `padding='max_length'` to pad to a max length. In this case, you can give a specific length with `max_length` (e.g. `max_length=45`) or leave max_length to None to pad to the maximal input size of the model (e.g. 512 for Bert).\n",
            "  FutureWarning,\n"
          ],
          "name": "stderr"
        },
        {
          "output_type": "stream",
          "text": [
            "Original:  One of the other reviewers has mentioned that after watching just 1 Oz episode you'll be hooked. They are right, as this is exactly what happened with me.<br /><br />The first thing that struck me about Oz was its brutality and unflinching scenes of violence, which set in right from the word GO. Trust me, this is not a show for the faint hearted or timid. This show pulls no punches with regards to drugs, sex or violence. Its is hardcore, in the classic use of the word.<br /><br />It is called OZ as that is the nickname given to the Oswald Maximum Security State Penitentary. It focuses mainly on Emerald City, an experimental section of the prison where all the cells have glass fronts and face inwards, so privacy is not high on the agenda. Em City is home to many..Aryans, Muslims, gangstas, Latinos, Christians, Italians, Irish and more....so scuffles, death stares, dodgy dealings and shady agreements are never far away.<br /><br />I would say the main appeal of the show is due to the fact that it goes where other shows wouldn't dare. Forget pretty pictures painted for mainstream audiences, forget charm, forget romance...OZ doesn't mess around. The first episode I ever saw struck me as so nasty it was surreal, I couldn't say I was ready for it, but as I watched more, I developed a taste for Oz, and got accustomed to the high levels of graphic violence. Not just violence, but injustice (crooked guards who'll be sold out for a nickel, inmates who'll kill on order and get away with it, well mannered, middle class inmates being turned into prison bitches due to their lack of street skills or prison experience) Watching Oz, you may become comfortable with what is uncomfortable viewing....thats if you can get in touch with your darker side.\n",
            "Token IDs:  [101, 2028, 1997, 1996, 2060, 15814, 2038, 3855, 2008, 2044, 3666, 2074, 1015, 11472, 2792, 2017, 1005, 2222, 2022, 13322, 1012, 2027, 2024, 2157, 1010, 2004, 2023, 2003, 3599, 2054, 3047, 2007, 2033, 1012, 1026, 7987, 1013, 1028, 1026, 7987, 1013, 1028, 1996, 2034, 2518, 2008, 4930, 2033, 2055, 11472, 2001, 2049, 24083, 1998, 4895, 10258, 2378, 8450, 5019, 1997, 4808, 1010, 2029, 2275, 1999, 2157, 2013, 1996, 2773, 2175, 1012, 3404, 2033, 1010, 2023, 2003, 2025, 1037, 2265, 2005, 1996, 8143, 18627, 2030, 5199, 3593, 1012, 2023, 2265, 8005, 2053, 17957, 2007, 12362, 2000, 5850, 1010, 3348, 2030, 4808, 1012, 2049, 2003, 13076, 1010, 1999, 1996, 4438, 2224, 1997, 1996, 2773, 1012, 1026, 7987, 1013, 1028, 1026, 7987, 1013, 1028, 2009, 2003, 2170, 11472, 2004, 2008, 2003, 1996, 8367, 2445, 2000, 1996, 17411, 4555, 3036, 2110, 7279, 4221, 12380, 2854, 1012, 2009, 7679, 3701, 2006, 14110, 2103, 1010, 2019, 6388, 2930, 1997, 1996, 3827, 2073, 2035, 1996, 4442, 2031, 3221, 21430, 1998, 2227, 20546, 2015, 1010, 2061, 9394, 2003, 2025, 2152, 2006, 1996, 11376, 1012, 7861, 2103, 2003, 2188, 2000, 2116, 1012, 1012, 26030, 2015, 1010, 7486, 1010, 18542, 10230, 1010, 7402, 2015, 1010, 8135, 1010, 16773, 1010, 3493, 1998, 2062, 1012, 1012, 1012, 1012, 2061, 8040, 16093, 28331, 1010, 2331, 14020, 1010, 26489, 6292, 24069, 1998, 22824, 10540, 2024, 2196, 2521, 2185, 1012, 1026, 7987, 1013, 1028, 1026, 7987, 1013, 1028, 1045, 2052, 2360, 1996, 2364, 5574, 1997, 1996, 2265, 2003, 2349, 2000, 1996, 2755, 2008, 2009, 3632, 2073, 2060, 3065, 2876, 1005, 1056, 8108, 1012, 5293, 3492, 4620, 4993, 2005, 7731, 9501, 1010, 5293, 11084, 1010, 5293, 7472, 1012, 1012, 1012, 11472, 2987, 1005, 1056, 6752, 2105, 1012, 1996, 2034, 2792, 1045, 2412, 2387, 4930, 2033, 2004, 2061, 11808, 2009, 2001, 16524, 1010, 1045, 2481, 1005, 1056, 2360, 1045, 2001, 3201, 2005, 2009, 1010, 2021, 2004, 102]\n",
            "Tokenizing data...\n"
          ],
          "name": "stdout"
        }
      ]
    },
    {
      "cell_type": "markdown",
      "metadata": {
        "papermill": {
          "duration": 0.049935,
          "end_time": "2021-01-08T15:05:52.508268",
          "exception": false,
          "start_time": "2021-01-08T15:05:52.458333",
          "status": "completed"
        },
        "tags": [],
        "id": "EJhQcK5zppKK"
      },
      "source": [
        "**2.2. Create PyTorch DataLoader**"
      ]
    },
    {
      "cell_type": "code",
      "metadata": {
        "papermill": {
          "duration": 0.06658,
          "end_time": "2021-01-08T15:05:52.624400",
          "exception": false,
          "start_time": "2021-01-08T15:05:52.557820",
          "status": "completed"
        },
        "tags": [],
        "id": "FEFnmO0zppKK"
      },
      "source": [
        "from torch.utils.data import TensorDataset, DataLoader, RandomSampler, SequentialSampler\n",
        "\n",
        "# Convert other data types to torch.Tensor\n",
        "train_labels = torch.tensor(y_train)\n",
        "val_labels = torch.tensor(y_val)\n",
        "\n",
        "# For fine-tuning BERT, the authors recommend a batch size of 16 or 32.\n",
        "batch_size = 32\n",
        "\n",
        "# Create the DataLoader for our training set\n",
        "train_data = TensorDataset(train_inputs, train_masks, train_labels)\n",
        "train_sampler = RandomSampler(train_data)\n",
        "train_dataloader = DataLoader(train_data, sampler=train_sampler, batch_size=batch_size)\n",
        "\n",
        "# Create the DataLoader for our validation set\n",
        "val_data = TensorDataset(val_inputs, val_masks, val_labels)\n",
        "val_sampler = SequentialSampler(val_data)\n",
        "val_dataloader = DataLoader(val_data, sampler=val_sampler, batch_size=batch_size)"
      ],
      "execution_count": 16,
      "outputs": []
    },
    {
      "cell_type": "markdown",
      "metadata": {
        "papermill": {
          "duration": 0.045701,
          "end_time": "2021-01-08T15:05:52.716352",
          "exception": false,
          "start_time": "2021-01-08T15:05:52.670651",
          "status": "completed"
        },
        "tags": [],
        "id": "R2HRcXgSppKK"
      },
      "source": [
        "**3. Train Our Model**"
      ]
    },
    {
      "cell_type": "markdown",
      "metadata": {
        "papermill": {
          "duration": 0.045476,
          "end_time": "2021-01-08T15:05:52.807242",
          "exception": false,
          "start_time": "2021-01-08T15:05:52.761766",
          "status": "completed"
        },
        "tags": [],
        "id": "sIJTpKgYppKL"
      },
      "source": [
        "**3.1. Create BertClassifier**"
      ]
    },
    {
      "cell_type": "markdown",
      "metadata": {
        "papermill": {
          "duration": 0.045209,
          "end_time": "2021-01-08T15:05:52.898118",
          "exception": false,
          "start_time": "2021-01-08T15:05:52.852909",
          "status": "completed"
        },
        "tags": [],
        "id": "g9i4C_8pppKL"
      },
      "source": [
        "BERT-base consists of 12 transformer layers, each transformer layer takes in a list of token embeddings, and produces the same number of embeddings with the same hidden size (or dimensions) on the output. The output of the final transformer layer of the [CLS] token is used as the features of the sequence to feed a classifier.\n",
        "\n",
        "The transformers library has the BertForSequenceClassification class which is designed for classification tasks. However, we will create a new class so we can specify our own choice of classifiers.\n",
        "\n",
        "Below we will create a BertClassifier class with a BERT model to extract the last hidden layer of the [CLS] token and a single-hidden-layer feed-forward neural network as our classifier"
      ]
    },
    {
      "cell_type": "code",
      "metadata": {
        "papermill": {
          "duration": 0.060266,
          "end_time": "2021-01-08T15:05:53.003422",
          "exception": false,
          "start_time": "2021-01-08T15:05:52.943156",
          "status": "completed"
        },
        "tags": [],
        "colab": {
          "base_uri": "https://localhost:8080/"
        },
        "id": "yJ3dKGuhppKL",
        "outputId": "e985b4da-6f70-4ab6-d2c4-1ffd7c877ff0"
      },
      "source": [
        "%%time\n",
        "import torch\n",
        "import torch.nn as nn\n",
        "from transformers import BertModel\n",
        "\n",
        "# Create the BertClassfier class\n",
        "class BertClassifier(nn.Module):\n",
        "    \"\"\"Bert Model for Classification Tasks.\n",
        "    \"\"\"\n",
        "    def __init__(self, freeze_bert=False):\n",
        "        \"\"\"\n",
        "        @param    bert: a BertModel object\n",
        "        @param    classifier: a torch.nn.Module classifier\n",
        "        @param    freeze_bert (bool): Set `False` to fine-tune the BERT model\n",
        "        \"\"\"\n",
        "        super(BertClassifier, self).__init__()\n",
        "        # Specify hidden size of BERT, hidden size of our classifier, and number of labels\n",
        "        D_in, H, D_out = 768, 50, 2\n",
        "\n",
        "        # Instantiate BERT model\n",
        "        self.bert = BertModel.from_pretrained('bert-base-uncased')\n",
        "\n",
        "        # Instantiate an one-layer feed-forward classifier\n",
        "        self.classifier = nn.Sequential(\n",
        "            nn.Linear(D_in, H),\n",
        "            nn.ReLU(),\n",
        "            #nn.Dropout(0.5),\n",
        "            nn.Linear(H, D_out)\n",
        "        )\n",
        "\n",
        "        # Freeze the BERT model\n",
        "        if freeze_bert:\n",
        "            for param in self.bert.parameters():\n",
        "                param.requires_grad = False\n",
        "        \n",
        "    def forward(self, input_ids, attention_mask):\n",
        "        \"\"\"\n",
        "        Feed input to BERT and the classifier to compute logits.\n",
        "        @param    input_ids (torch.Tensor): an input tensor with shape (batch_size,\n",
        "                      max_length)\n",
        "        @param    attention_mask (torch.Tensor): a tensor that hold attention mask\n",
        "                      information with shape (batch_size, max_length)\n",
        "        @return   logits (torch.Tensor): an output tensor with shape (batch_size,\n",
        "                      num_labels)\n",
        "        \"\"\"\n",
        "        # Feed input to BERT\n",
        "        outputs = self.bert(input_ids=input_ids,\n",
        "                            attention_mask=attention_mask)\n",
        "        \n",
        "        # Extract the last hidden state of the token `[CLS]` for classification task\n",
        "        last_hidden_state_cls = outputs[0][:, 0, :]\n",
        "\n",
        "        # Feed input to classifier to compute logits\n",
        "        logits = self.classifier(last_hidden_state_cls)\n",
        "\n",
        "        return logits\n"
      ],
      "execution_count": 17,
      "outputs": [
        {
          "output_type": "stream",
          "text": [
            "CPU times: user 21.4 ms, sys: 2 ms, total: 23.4 ms\n",
            "Wall time: 25.8 ms\n"
          ],
          "name": "stdout"
        }
      ]
    },
    {
      "cell_type": "markdown",
      "metadata": {
        "papermill": {
          "duration": 0.045064,
          "end_time": "2021-01-08T15:05:53.093642",
          "exception": false,
          "start_time": "2021-01-08T15:05:53.048578",
          "status": "completed"
        },
        "tags": [],
        "id": "u_-O0YKZppKM"
      },
      "source": [
        "**3.2. Optimizer & Learning Rate Scheduler**"
      ]
    },
    {
      "cell_type": "code",
      "metadata": {
        "papermill": {
          "duration": 0.054647,
          "end_time": "2021-01-08T15:05:53.193574",
          "exception": false,
          "start_time": "2021-01-08T15:05:53.138927",
          "status": "completed"
        },
        "tags": [],
        "id": "BqFkGG8jppKN"
      },
      "source": [
        "from transformers import AdamW, get_linear_schedule_with_warmup\n",
        "\n",
        "def initialize_model(epochs=4):\n",
        "    \"\"\"Initialize the Bert Classifier, the optimizer and the learning rate scheduler.\n",
        "    \"\"\"\n",
        "    # Instantiate Bert Classifier\n",
        "    bert_classifier = BertClassifier(freeze_bert=False)\n",
        "\n",
        "    # Tell PyTorch to run the model on GPU\n",
        "    bert_classifier.to(device)\n",
        "\n",
        "    # Create the optimizer\n",
        "    optimizer = AdamW(bert_classifier.parameters(),\n",
        "                      lr=5e-5,    # Default learning rate\n",
        "                      eps=1e-8    # Default epsilon value\n",
        "                      )\n",
        "\n",
        "    # Total number of training steps\n",
        "    total_steps = len(train_dataloader) * epochs\n",
        "\n",
        "    # Set up the learning rate scheduler\n",
        "    scheduler = get_linear_schedule_with_warmup(optimizer,\n",
        "                                                num_warmup_steps=0, # Default value\n",
        "                                                num_training_steps=total_steps)\n",
        "    return bert_classifier, optimizer, scheduler"
      ],
      "execution_count": 18,
      "outputs": []
    },
    {
      "cell_type": "markdown",
      "metadata": {
        "papermill": {
          "duration": 0.045041,
          "end_time": "2021-01-08T15:05:53.284216",
          "exception": false,
          "start_time": "2021-01-08T15:05:53.239175",
          "status": "completed"
        },
        "tags": [],
        "id": "wYFdPK7wppKN"
      },
      "source": [
        "**3.3. Training Loop**"
      ]
    },
    {
      "cell_type": "code",
      "metadata": {
        "papermill": {
          "duration": 0.072111,
          "end_time": "2021-01-08T15:05:53.401806",
          "exception": false,
          "start_time": "2021-01-08T15:05:53.329695",
          "status": "completed"
        },
        "tags": [],
        "id": "zSNqUL__ppKN"
      },
      "source": [
        "import random\n",
        "import time\n",
        "\n",
        "# Specify loss function\n",
        "loss_fn = nn.CrossEntropyLoss()\n",
        "\n",
        "def set_seed(seed_value=42):\n",
        "    \"\"\"Set seed for reproducibility.\n",
        "    \"\"\"\n",
        "    random.seed(seed_value)\n",
        "    np.random.seed(seed_value)\n",
        "    torch.manual_seed(seed_value)\n",
        "    torch.cuda.manual_seed_all(seed_value)\n",
        "\n",
        "def train(model, train_dataloader, val_dataloader=None, epochs=4, evaluation=False):\n",
        "    \"\"\"Train the BertClassifier model.\n",
        "    \"\"\"\n",
        "    # Start training loop\n",
        "    print(\"Start training...\\n\")\n",
        "    for epoch_i in range(epochs):\n",
        "        # =======================================\n",
        "        #               Training\n",
        "        # =======================================\n",
        "        # Print the header of the result table\n",
        "        print(f\"{'Epoch':^7} | {'Batch':^7} | {'Train Loss':^12} | {'Val Loss':^10} | {'Val Acc':^9} | {'Elapsed':^9}\")\n",
        "        print(\"-\"*70)\n",
        "\n",
        "        # Measure the elapsed time of each epoch\n",
        "        t0_epoch, t0_batch = time.time(), time.time()\n",
        "\n",
        "        # Reset tracking variables at the beginning of each epoch\n",
        "        total_loss, batch_loss, batch_counts = 0, 0, 0\n",
        "\n",
        "        # Put the model into the training mode\n",
        "        model.train()\n",
        "\n",
        "        # For each batch of training data...\n",
        "        for step, batch in enumerate(train_dataloader):\n",
        "            batch_counts +=1\n",
        "            # Load batch to GPU\n",
        "            b_input_ids, b_attn_mask, b_labels = tuple(t.to(device) for t in batch)\n",
        "\n",
        "            # Zero out any previously calculated gradients\n",
        "            model.zero_grad()\n",
        "\n",
        "            # Perform a forward pass. This will return logits.\n",
        "            logits = model(b_input_ids, b_attn_mask)\n",
        "\n",
        "            # Compute loss and accumulate the loss values\n",
        "            loss = loss_fn(logits, b_labels)\n",
        "            batch_loss += loss.item()\n",
        "            total_loss += loss.item()\n",
        "\n",
        "            # Perform a backward pass to calculate gradients\n",
        "            loss.backward()\n",
        "\n",
        "            # Clip the norm of the gradients to 1.0 to prevent \"exploding gradients\"\n",
        "            torch.nn.utils.clip_grad_norm_(model.parameters(), 1.0)\n",
        "\n",
        "            # Update parameters and the learning rate\n",
        "            optimizer.step()\n",
        "            scheduler.step()\n",
        "\n",
        "            # Print the loss values and time elapsed for every 20 batches\n",
        "            if (step % 20 == 0 and step != 0) or (step == len(train_dataloader) - 1):\n",
        "                # Calculate time elapsed for 20 batches\n",
        "                time_elapsed = time.time() - t0_batch\n",
        "\n",
        "                # Print training results\n",
        "                print(f\"{epoch_i + 1:^7} | {step:^7} | {batch_loss / batch_counts:^12.6f} | {'-':^10} | {'-':^9} | {time_elapsed:^9.2f}\")\n",
        "\n",
        "                # Reset batch tracking variables\n",
        "                batch_loss, batch_counts = 0, 0\n",
        "                t0_batch = time.time()\n",
        "\n",
        "        # Calculate the average loss over the entire training data\n",
        "        avg_train_loss = total_loss / len(train_dataloader)\n",
        "\n",
        "        print(\"-\"*70)\n",
        "        # =======================================\n",
        "        #               Evaluation\n",
        "        # =======================================\n",
        "        if evaluation == True:\n",
        "            # After the completion of each training epoch, measure the model's performance\n",
        "            # on our validation set.\n",
        "            val_loss, val_accuracy = evaluate(model, val_dataloader)\n",
        "\n",
        "            # Print performance over the entire training data\n",
        "            time_elapsed = time.time() - t0_epoch\n",
        "            \n",
        "            print(f\"{epoch_i + 1:^7} | {'-':^7} | {avg_train_loss:^12.6f} | {val_loss:^10.6f} | {val_accuracy:^9.2f} | {time_elapsed:^9.2f}\")\n",
        "            print(\"-\"*70)\n",
        "        print(\"\\n\")\n",
        "    \n",
        "    print(\"Training complete!\")\n",
        "\n",
        "\n",
        "def evaluate(model, val_dataloader):\n",
        "    \"\"\"After the completion of each training epoch, measure the model's performance\n",
        "    on our validation set.\n",
        "    \"\"\"\n",
        "    # Put the model into the evaluation mode. The dropout layers are disabled during\n",
        "    # the test time.\n",
        "    model.eval()\n",
        "\n",
        "    # Tracking variables\n",
        "    val_accuracy = []\n",
        "    val_loss = []\n",
        "\n",
        "    # For each batch in our validation set...\n",
        "    for batch in val_dataloader:\n",
        "        # Load batch to GPU\n",
        "        b_input_ids, b_attn_mask, b_labels = tuple(t.to(device) for t in batch)\n",
        "\n",
        "        # Compute logits\n",
        "        with torch.no_grad():\n",
        "            logits = model(b_input_ids, b_attn_mask)\n",
        "\n",
        "        # Compute loss\n",
        "        loss = loss_fn(logits, b_labels)\n",
        "        val_loss.append(loss.item())\n",
        "\n",
        "        # Get the predictions\n",
        "        preds = torch.argmax(logits, dim=1).flatten()\n",
        "\n",
        "        # Calculate the accuracy rate\n",
        "        accuracy = (preds == b_labels).cpu().numpy().mean() * 100\n",
        "        val_accuracy.append(accuracy)\n",
        "\n",
        "    # Compute the average accuracy and loss over the validation set.\n",
        "    val_loss = np.mean(val_loss)\n",
        "    val_accuracy = np.mean(val_accuracy)\n",
        "\n",
        "    return val_loss, val_accuracy"
      ],
      "execution_count": 19,
      "outputs": []
    },
    {
      "cell_type": "markdown",
      "metadata": {
        "papermill": {
          "duration": 0.045579,
          "end_time": "2021-01-08T15:05:53.494094",
          "exception": false,
          "start_time": "2021-01-08T15:05:53.448515",
          "status": "completed"
        },
        "tags": [],
        "id": "L7Gf04hmppKO"
      },
      "source": [
        "<div style=\"color:white;\n",
        "           display:fill;\n",
        "           border-radius:5px;\n",
        "           background-color:#ffc299;\n",
        "           font-size:110%;\n",
        "           font-family:Verdana;\n",
        "           letter-spacing:0.5px\">\n",
        "\n",
        "<h1 style=\"text-align: center;\n",
        "           padding: 10px;\n",
        "           color:white;\">\n",
        "\n",
        "Training our BertClassifier!\n",
        "</h1>\n",
        "</div>\n"
      ]
    },
    {
      "cell_type": "code",
      "metadata": {
        "papermill": {
          "duration": 121.886349,
          "end_time": "2021-01-08T15:07:55.426657",
          "exception": false,
          "start_time": "2021-01-08T15:05:53.540308",
          "status": "completed"
        },
        "tags": [],
        "colab": {
          "base_uri": "https://localhost:8080/",
          "height": 1000,
          "referenced_widgets": [
            "c7c09ff749624a218370b9a77cc63988",
            "4384462b0a7b44faa0a12d0dc27e8fdd",
            "337898ffe009446aafe73000bb90779d",
            "6a2d7a0b1824442ab3a1bda7c4f7c32e",
            "1b534618779b4b9195ab426f01f54642",
            "0672a8ff90354dfa8c8ee63d13c800c0",
            "e898c8544c3d4f97bbd268b9ca1b675c",
            "25e3a4d9fa7e49b191be9ed4092d3a8b",
            "7d564756ea2e481dac01e5bef5dd7b5c",
            "7725cb44d9be4ab995d1cae374e5b0e0",
            "1c0f3d7856c0410894f485eb37c266e2",
            "7c91be453159485b82deda24adcc4ee5",
            "08c3998423074f1aad6c5808d008e677",
            "f28547b7155241479704db7d53852b93",
            "a179bff20bae44f896a1878194b5021e",
            "0060fe1698de4fc99bcfde0d8e2be65c"
          ]
        },
        "id": "r0ap92R7ppKP",
        "outputId": "0acf57dd-fd7c-4bdb-dc25-3ba4786cb8b5"
      },
      "source": [
        "set_seed(42)    # Set seed for reproducibility\n",
        "bert_classifier, optimizer, scheduler = initialize_model(epochs=2)\n",
        "train(bert_classifier, train_dataloader, val_dataloader, epochs=2, evaluation=True)"
      ],
      "execution_count": 20,
      "outputs": [
        {
          "output_type": "display_data",
          "data": {
            "application/vnd.jupyter.widget-view+json": {
              "model_id": "c7c09ff749624a218370b9a77cc63988",
              "version_minor": 0,
              "version_major": 2
            },
            "text/plain": [
              "HBox(children=(FloatProgress(value=0.0, description='Downloading', max=570.0, style=ProgressStyle(description_…"
            ]
          },
          "metadata": {
            "tags": []
          }
        },
        {
          "output_type": "stream",
          "text": [
            "\n"
          ],
          "name": "stdout"
        },
        {
          "output_type": "display_data",
          "data": {
            "application/vnd.jupyter.widget-view+json": {
              "model_id": "7d564756ea2e481dac01e5bef5dd7b5c",
              "version_minor": 0,
              "version_major": 2
            },
            "text/plain": [
              "HBox(children=(FloatProgress(value=0.0, description='Downloading', max=440473133.0, style=ProgressStyle(descri…"
            ]
          },
          "metadata": {
            "tags": []
          }
        },
        {
          "output_type": "stream",
          "text": [
            "\n"
          ],
          "name": "stdout"
        },
        {
          "output_type": "stream",
          "text": [
            "Some weights of the model checkpoint at bert-base-uncased were not used when initializing BertModel: ['cls.seq_relationship.weight', 'cls.seq_relationship.bias', 'cls.predictions.transform.LayerNorm.bias', 'cls.predictions.transform.dense.weight', 'cls.predictions.transform.dense.bias', 'cls.predictions.bias', 'cls.predictions.transform.LayerNorm.weight', 'cls.predictions.decoder.weight']\n",
            "- This IS expected if you are initializing BertModel from the checkpoint of a model trained on another task or with another architecture (e.g. initializing a BertForSequenceClassification model from a BertForPreTraining model).\n",
            "- This IS NOT expected if you are initializing BertModel from the checkpoint of a model that you expect to be exactly identical (initializing a BertForSequenceClassification model from a BertForSequenceClassification model).\n"
          ],
          "name": "stderr"
        },
        {
          "output_type": "stream",
          "text": [
            "Start training...\n",
            "\n",
            " Epoch  |  Batch  |  Train Loss  |  Val Loss  |  Val Acc  |  Elapsed \n",
            "----------------------------------------------------------------------\n",
            "   1    |   20    |   0.578144   |     -      |     -     |   34.41  \n",
            "   1    |   40    |   0.350127   |     -      |     -     |   33.60  \n",
            "   1    |   60    |   0.348546   |     -      |     -     |   34.58  \n",
            "   1    |   80    |   0.326502   |     -      |     -     |   35.70  \n",
            "   1    |   100   |   0.269097   |     -      |     -     |   36.57  \n",
            "   1    |   120   |   0.258166   |     -      |     -     |   36.91  \n",
            "   1    |   140   |   0.285624   |     -      |     -     |   37.45  \n",
            "   1    |   160   |   0.275670   |     -      |     -     |   37.60  \n",
            "   1    |   180   |   0.236881   |     -      |     -     |   37.58  \n",
            "   1    |   200   |   0.256186   |     -      |     -     |   37.48  \n",
            "   1    |   220   |   0.272907   |     -      |     -     |   37.57  \n",
            "   1    |   240   |   0.279155   |     -      |     -     |   37.53  \n",
            "   1    |   260   |   0.253433   |     -      |     -     |   37.55  \n",
            "   1    |   280   |   0.237155   |     -      |     -     |   37.53  \n",
            "   1    |   300   |   0.271449   |     -      |     -     |   37.56  \n",
            "   1    |   320   |   0.304283   |     -      |     -     |   37.64  \n",
            "   1    |   340   |   0.249675   |     -      |     -     |   37.54  \n",
            "   1    |   360   |   0.273442   |     -      |     -     |   37.57  \n",
            "   1    |   380   |   0.262027   |     -      |     -     |   37.48  \n",
            "   1    |   400   |   0.242798   |     -      |     -     |   37.43  \n",
            "   1    |   420   |   0.248708   |     -      |     -     |   37.40  \n",
            "   1    |   440   |   0.183111   |     -      |     -     |   37.48  \n",
            "   1    |   460   |   0.209892   |     -      |     -     |   37.38  \n",
            "   1    |   480   |   0.230883   |     -      |     -     |   37.62  \n",
            "   1    |   500   |   0.220682   |     -      |     -     |   37.42  \n",
            "   1    |   520   |   0.221152   |     -      |     -     |   37.49  \n",
            "   1    |   540   |   0.223844   |     -      |     -     |   37.51  \n",
            "   1    |   560   |   0.249278   |     -      |     -     |   37.39  \n",
            "   1    |   580   |   0.220856   |     -      |     -     |   37.52  \n",
            "   1    |   600   |   0.193942   |     -      |     -     |   37.46  \n",
            "   1    |   620   |   0.186012   |     -      |     -     |   37.46  \n",
            "   1    |   640   |   0.248991   |     -      |     -     |   37.52  \n",
            "   1    |   660   |   0.234946   |     -      |     -     |   37.50  \n",
            "   1    |   680   |   0.220811   |     -      |     -     |   37.60  \n",
            "   1    |   700   |   0.250851   |     -      |     -     |   37.55  \n",
            "   1    |   720   |   0.203105   |     -      |     -     |   37.53  \n",
            "   1    |   740   |   0.195146   |     -      |     -     |   37.51  \n",
            "   1    |   760   |   0.207740   |     -      |     -     |   37.59  \n",
            "   1    |   780   |   0.237047   |     -      |     -     |   37.55  \n",
            "   1    |   800   |   0.187134   |     -      |     -     |   37.50  \n",
            "   1    |   820   |   0.234486   |     -      |     -     |   37.34  \n",
            "   1    |   840   |   0.246096   |     -      |     -     |   37.39  \n",
            "   1    |   860   |   0.203928   |     -      |     -     |   37.50  \n",
            "   1    |   880   |   0.240628   |     -      |     -     |   37.40  \n",
            "   1    |   900   |   0.206579   |     -      |     -     |   37.42  \n",
            "   1    |   920   |   0.221258   |     -      |     -     |   37.54  \n",
            "   1    |   940   |   0.214801   |     -      |     -     |   37.42  \n",
            "   1    |   960   |   0.220872   |     -      |     -     |   37.41  \n",
            "   1    |   980   |   0.177417   |     -      |     -     |   37.45  \n",
            "   1    |  1000   |   0.190184   |     -      |     -     |   37.45  \n",
            "   1    |  1020   |   0.218066   |     -      |     -     |   37.41  \n",
            "   1    |  1040   |   0.209087   |     -      |     -     |   37.48  \n",
            "   1    |  1060   |   0.228723   |     -      |     -     |   37.46  \n",
            "   1    |  1080   |   0.176040   |     -      |     -     |   37.48  \n",
            "   1    |  1100   |   0.203205   |     -      |     -     |   37.45  \n",
            "   1    |  1120   |   0.187791   |     -      |     -     |   37.46  \n",
            "   1    |  1124   |   0.200347   |     -      |     -     |   7.51   \n",
            "----------------------------------------------------------------------\n",
            "   1    |    -    |   0.242730   |  0.171364  |   93.17   |  2174.86 \n",
            "----------------------------------------------------------------------\n",
            "\n",
            "\n",
            " Epoch  |  Batch  |  Train Loss  |  Val Loss  |  Val Acc  |  Elapsed \n",
            "----------------------------------------------------------------------\n",
            "   2    |   20    |   0.124214   |     -      |     -     |   39.36  \n",
            "   2    |   40    |   0.146170   |     -      |     -     |   37.55  \n",
            "   2    |   60    |   0.116960   |     -      |     -     |   37.54  \n",
            "   2    |   80    |   0.139216   |     -      |     -     |   37.44  \n",
            "   2    |   100   |   0.113634   |     -      |     -     |   37.53  \n",
            "   2    |   120   |   0.108693   |     -      |     -     |   37.56  \n",
            "   2    |   140   |   0.131327   |     -      |     -     |   37.65  \n",
            "   2    |   160   |   0.101033   |     -      |     -     |   37.60  \n",
            "   2    |   180   |   0.114285   |     -      |     -     |   37.60  \n",
            "   2    |   200   |   0.080147   |     -      |     -     |   37.37  \n",
            "   2    |   220   |   0.121146   |     -      |     -     |   37.38  \n",
            "   2    |   240   |   0.102637   |     -      |     -     |   37.48  \n",
            "   2    |   260   |   0.127885   |     -      |     -     |   37.34  \n",
            "   2    |   280   |   0.141559   |     -      |     -     |   37.41  \n",
            "   2    |   300   |   0.128317   |     -      |     -     |   37.38  \n",
            "   2    |   320   |   0.094582   |     -      |     -     |   37.50  \n",
            "   2    |   340   |   0.106147   |     -      |     -     |   37.61  \n",
            "   2    |   360   |   0.081562   |     -      |     -     |   37.60  \n",
            "   2    |   380   |   0.108733   |     -      |     -     |   37.59  \n",
            "   2    |   400   |   0.111942   |     -      |     -     |   37.51  \n",
            "   2    |   420   |   0.127159   |     -      |     -     |   37.41  \n",
            "   2    |   440   |   0.090026   |     -      |     -     |   37.43  \n",
            "   2    |   460   |   0.077890   |     -      |     -     |   37.45  \n",
            "   2    |   480   |   0.111223   |     -      |     -     |   37.45  \n",
            "   2    |   500   |   0.082028   |     -      |     -     |   37.34  \n",
            "   2    |   520   |   0.077676   |     -      |     -     |   37.37  \n",
            "   2    |   540   |   0.125757   |     -      |     -     |   37.42  \n",
            "   2    |   560   |   0.109596   |     -      |     -     |   37.53  \n",
            "   2    |   580   |   0.090621   |     -      |     -     |   37.54  \n",
            "   2    |   600   |   0.142608   |     -      |     -     |   37.62  \n",
            "   2    |   620   |   0.063230   |     -      |     -     |   37.39  \n",
            "   2    |   640   |   0.088570   |     -      |     -     |   37.39  \n",
            "   2    |   660   |   0.079146   |     -      |     -     |   37.41  \n",
            "   2    |   680   |   0.132517   |     -      |     -     |   37.52  \n",
            "   2    |   700   |   0.106959   |     -      |     -     |   37.53  \n",
            "   2    |   720   |   0.125542   |     -      |     -     |   37.66  \n",
            "   2    |   740   |   0.081927   |     -      |     -     |   37.30  \n",
            "   2    |   760   |   0.098218   |     -      |     -     |   37.54  \n",
            "   2    |   780   |   0.084691   |     -      |     -     |   37.38  \n",
            "   2    |   800   |   0.077351   |     -      |     -     |   37.42  \n",
            "   2    |   820   |   0.111720   |     -      |     -     |   37.27  \n",
            "   2    |   840   |   0.090097   |     -      |     -     |   37.44  \n",
            "   2    |   860   |   0.092970   |     -      |     -     |   37.35  \n",
            "   2    |   880   |   0.115521   |     -      |     -     |   37.42  \n",
            "   2    |   900   |   0.113515   |     -      |     -     |   37.54  \n",
            "   2    |   920   |   0.137294   |     -      |     -     |   37.46  \n",
            "   2    |   940   |   0.104969   |     -      |     -     |   37.64  \n",
            "   2    |   960   |   0.073027   |     -      |     -     |   37.57  \n",
            "   2    |   980   |   0.092054   |     -      |     -     |   37.49  \n",
            "   2    |  1000   |   0.060358   |     -      |     -     |   37.51  \n",
            "   2    |  1020   |   0.084862   |     -      |     -     |   37.63  \n",
            "   2    |  1040   |   0.090760   |     -      |     -     |   37.52  \n",
            "   2    |  1060   |   0.092339   |     -      |     -     |   37.51  \n",
            "   2    |  1080   |   0.090435   |     -      |     -     |   37.38  \n",
            "   2    |  1100   |   0.091179   |     -      |     -     |   37.47  \n",
            "   2    |  1120   |   0.109165   |     -      |     -     |   37.50  \n",
            "   2    |  1124   |   0.096836   |     -      |     -     |   7.49   \n",
            "----------------------------------------------------------------------\n",
            "   2    |    -    |   0.103978   |  0.211214  |   93.60   |  2189.34 \n",
            "----------------------------------------------------------------------\n",
            "\n",
            "\n",
            "Training complete!\n"
          ],
          "name": "stdout"
        }
      ]
    },
    {
      "cell_type": "markdown",
      "metadata": {
        "papermill": {
          "duration": 0.08146,
          "end_time": "2021-01-08T15:07:55.604196",
          "exception": false,
          "start_time": "2021-01-08T15:07:55.522736",
          "status": "completed"
        },
        "tags": [],
        "id": "CN9ZTo4bppKP"
      },
      "source": [
        "**3.4. Evaluation on Validation Set**"
      ]
    },
    {
      "cell_type": "code",
      "metadata": {
        "papermill": {
          "duration": 0.066499,
          "end_time": "2021-01-08T15:07:55.726582",
          "exception": false,
          "start_time": "2021-01-08T15:07:55.660083",
          "status": "completed"
        },
        "tags": [],
        "id": "0s7ZOvxWppKP"
      },
      "source": [
        "import torch.nn.functional as F\n",
        "\n",
        "def bert_predict(model, test_dataloader):\n",
        "    \"\"\"Perform a forward pass on the trained BERT model to predict probabilities\n",
        "    on the test set.\n",
        "    \"\"\"\n",
        "    # Put the model into the evaluation mode. The dropout layers are disabled during\n",
        "    # the test time.\n",
        "    model.eval()\n",
        "\n",
        "    all_logits = []\n",
        "\n",
        "    # For each batch in our test set...\n",
        "    for batch in test_dataloader:\n",
        "        # Load batch to GPU\n",
        "        b_input_ids, b_attn_mask = tuple(t.to(device) for t in batch)[:2]\n",
        "\n",
        "        # Compute logits\n",
        "        with torch.no_grad():\n",
        "            logits = model(b_input_ids, b_attn_mask)\n",
        "        all_logits.append(logits)\n",
        "    \n",
        "    # Concatenate logits from each batch\n",
        "    all_logits = torch.cat(all_logits, dim=0)\n",
        "\n",
        "    # Apply softmax to calculate probabilities\n",
        "    probs = F.softmax(all_logits, dim=1).cpu().numpy()\n",
        "\n",
        "    return probs"
      ],
      "execution_count": 21,
      "outputs": []
    },
    {
      "cell_type": "code",
      "metadata": {
        "id": "XWYh4-oRwgLR"
      },
      "source": [
        "from sklearn.metrics import accuracy_score, roc_curve, auc\n",
        "from sklearn.metrics import classification_report, confusion_matrix\n",
        "\n",
        "def evaluate_roc(probs, y_true):\n",
        "    preds = probs[:, 1]\n",
        "    fpr, tpr, threshold = roc_curve(y_true, preds)\n",
        "    roc_auc = auc(fpr, tpr)\n",
        "    print(f'AUC: {roc_auc:.4f}')\n",
        "       \n",
        "    # Get accuracy over the test set\n",
        "    y_pred = np.where(preds >= 0.5, 1, 0)\n",
        "    accuracy = accuracy_score(y_true, y_pred)\n",
        "    print(f'Accuracy: {accuracy*100:.2f}%')\n",
        "    \n",
        "    ## y_true=test_data[\"sentiment\"]\n",
        "    ## y_pred=y_pred\n",
        "    print(\"Accuracy: {:.2f}\".format(accuracy*100),end='\\n\\n')\n",
        "    cm = confusion_matrix(y_true,y_pred)\n",
        "    print('Confusion Matrix:\\n', cm)\n",
        "    print(classification_report(y_true,y_pred))\n",
        "\n",
        "    # Plot ROC AUC\n",
        "    plt.title('Receiver Operating Characteristic')\n",
        "    plt.plot(fpr, tpr, 'b', label = 'AUC = %0.2f' % roc_auc)\n",
        "    plt.legend(loc = 'lower right')\n",
        "    plt.plot([0, 1], [0, 1],'r--')\n",
        "    plt.xlim([0, 1])\n",
        "    plt.ylim([0, 1])\n",
        "    plt.ylabel('True Positive Rate')\n",
        "    plt.xlabel('False Positive Rate')\n",
        "    plt.show()\n",
        "\n"
      ],
      "execution_count": 30,
      "outputs": []
    },
    {
      "cell_type": "code",
      "metadata": {
        "papermill": {
          "duration": 1.771227,
          "end_time": "2021-01-08T15:07:57.552318",
          "exception": false,
          "start_time": "2021-01-08T15:07:55.781091",
          "status": "completed"
        },
        "tags": [],
        "colab": {
          "base_uri": "https://localhost:8080/",
          "height": 567
        },
        "id": "S69P64mIppKQ",
        "outputId": "f945bd18-7c53-46b8-9566-d0e588f646b2"
      },
      "source": [
        "# Compute predicted probabilities on the test set\n",
        "probs = bert_predict(bert_classifier, val_dataloader)\n",
        "\n",
        "# Evaluate the Bert classifier\n",
        "evaluate_roc(probs, y_val)"
      ],
      "execution_count": 31,
      "outputs": [
        {
          "output_type": "stream",
          "text": [
            "AUC: 0.9824\n",
            "Accuracy: 93.60%\n",
            "Accuracy: 93.60\n",
            "\n",
            "Confusion Matrix:\n",
            " [[1879  135]\n",
            " [ 121 1865]]\n",
            "              precision    recall  f1-score   support\n",
            "\n",
            "           0       0.94      0.93      0.94      2014\n",
            "           1       0.93      0.94      0.94      1986\n",
            "\n",
            "    accuracy                           0.94      4000\n",
            "   macro avg       0.94      0.94      0.94      4000\n",
            "weighted avg       0.94      0.94      0.94      4000\n",
            "\n"
          ],
          "name": "stdout"
        },
        {
          "output_type": "display_data",
          "data": {
            "image/png": "[encoded data removed]",
            "text/plain": [
              "<Figure size 432x288 with 1 Axes>"
            ]
          },
          "metadata": {
            "tags": []
          }
        }
      ]
    },
    {
      "cell_type": "markdown",
      "metadata": {
        "papermill": {
          "duration": 0.06102,
          "end_time": "2021-01-08T15:07:57.675150",
          "exception": false,
          "start_time": "2021-01-08T15:07:57.614130",
          "status": "completed"
        },
        "tags": [],
        "id": "XywNqiFEppKQ"
      },
      "source": [
        "**3.5. Train Our Model on the Entire Training Data**"
      ]
    },
    {
      "cell_type": "code",
      "metadata": {
        "papermill": {
          "duration": 111.695242,
          "end_time": "2021-01-08T15:09:49.430696",
          "exception": false,
          "start_time": "2021-01-08T15:07:57.735454",
          "status": "completed"
        },
        "tags": [],
        "colab": {
          "base_uri": "https://localhost:8080/"
        },
        "id": "ybCYGDehppKQ",
        "outputId": "2330b8eb-6c03-4c12-ed3e-d3cc697cb799"
      },
      "source": [
        "# Concatenate the train set and the validation set\n",
        "full_train_data = torch.utils.data.ConcatDataset([train_data, val_data])\n",
        "full_train_sampler = RandomSampler(full_train_data)\n",
        "full_train_dataloader = DataLoader(full_train_data, sampler=full_train_sampler, batch_size=32)\n",
        "\n",
        "# Train the Bert Classifier on the entire training data\n",
        "set_seed(42)\n",
        "bert_classifier, optimizer, scheduler = initialize_model(epochs=2)\n",
        "train(bert_classifier, full_train_dataloader, epochs=2)"
      ],
      "execution_count": 32,
      "outputs": [
        {
          "output_type": "stream",
          "text": [
            "Some weights of the model checkpoint at bert-base-uncased were not used when initializing BertModel: ['cls.seq_relationship.weight', 'cls.seq_relationship.bias', 'cls.predictions.transform.LayerNorm.bias', 'cls.predictions.transform.dense.weight', 'cls.predictions.transform.dense.bias', 'cls.predictions.bias', 'cls.predictions.transform.LayerNorm.weight', 'cls.predictions.decoder.weight']\n",
            "- This IS expected if you are initializing BertModel from the checkpoint of a model trained on another task or with another architecture (e.g. initializing a BertForSequenceClassification model from a BertForPreTraining model).\n",
            "- This IS NOT expected if you are initializing BertModel from the checkpoint of a model that you expect to be exactly identical (initializing a BertForSequenceClassification model from a BertForSequenceClassification model).\n"
          ],
          "name": "stderr"
        },
        {
          "output_type": "stream",
          "text": [
            "Start training...\n",
            "\n",
            " Epoch  |  Batch  |  Train Loss  |  Val Loss  |  Val Acc  |  Elapsed \n",
            "----------------------------------------------------------------------\n",
            "   1    |   20    |   0.624766   |     -      |     -     |   39.63  \n",
            "   1    |   40    |   0.450236   |     -      |     -     |   37.32  \n",
            "   1    |   80    |   0.297122   |     -      |     -     |   37.57  \n",
            "   1    |   100   |   0.358065   |     -      |     -     |   37.50  \n",
            "   1    |   120   |   0.295763   |     -      |     -     |   37.33  \n",
            "   1    |   140   |   0.260194   |     -      |     -     |   37.40  \n",
            "   1    |   160   |   0.248858   |     -      |     -     |   37.43  \n",
            "   1    |   180   |   0.253211   |     -      |     -     |   37.45  \n",
            "   1    |   200   |   0.233201   |     -      |     -     |   37.52  \n",
            "   1    |   220   |   0.244158   |     -      |     -     |   37.53  \n",
            "   1    |   240   |   0.283940   |     -      |     -     |   37.36  \n",
            "   1    |   260   |   0.283987   |     -      |     -     |   37.32  \n",
            "   1    |   280   |   0.257373   |     -      |     -     |   37.45  \n",
            "   1    |   300   |   0.230827   |     -      |     -     |   37.53  \n",
            "   1    |   320   |   0.248646   |     -      |     -     |   37.67  \n",
            "   1    |   340   |   0.229603   |     -      |     -     |   37.57  \n",
            "   1    |   360   |   0.247911   |     -      |     -     |   37.61  \n",
            "   1    |   380   |   0.234543   |     -      |     -     |   37.50  \n",
            "   1    |   400   |   0.255473   |     -      |     -     |   37.38  \n",
            "   1    |   420   |   0.201770   |     -      |     -     |   37.43  \n",
            "   1    |   440   |   0.252994   |     -      |     -     |   37.64  \n",
            "   1    |   460   |   0.221702   |     -      |     -     |   37.61  \n",
            "   1    |   480   |   0.255152   |     -      |     -     |   37.59  \n",
            "   1    |   500   |   0.224302   |     -      |     -     |   37.51  \n",
            "   1    |   520   |   0.221460   |     -      |     -     |   37.43  \n",
            "   1    |   540   |   0.231044   |     -      |     -     |   37.43  \n",
            "   1    |   560   |   0.250376   |     -      |     -     |   37.42  \n",
            "   1    |   580   |   0.228842   |     -      |     -     |   37.64  \n",
            "   1    |   600   |   0.242674   |     -      |     -     |   37.61  \n",
            "   1    |   620   |   0.244194   |     -      |     -     |   37.36  \n",
            "   1    |   640   |   0.198979   |     -      |     -     |   37.34  \n",
            "   1    |   660   |   0.208116   |     -      |     -     |   37.26  \n",
            "   1    |   680   |   0.184377   |     -      |     -     |   37.37  \n",
            "   1    |   700   |   0.189129   |     -      |     -     |   37.44  \n",
            "   1    |   720   |   0.222207   |     -      |     -     |   37.53  \n",
            "   1    |   740   |   0.245993   |     -      |     -     |   37.54  \n",
            "   1    |   760   |   0.240489   |     -      |     -     |   37.55  \n",
            "   1    |   780   |   0.190591   |     -      |     -     |   37.48  \n",
            "   1    |   800   |   0.178448   |     -      |     -     |   37.26  \n",
            "   1    |   820   |   0.230856   |     -      |     -     |   37.46  \n",
            "   1    |   840   |   0.196756   |     -      |     -     |   37.47  \n",
            "   1    |   860   |   0.191436   |     -      |     -     |   37.67  \n",
            "   1    |   880   |   0.233541   |     -      |     -     |   37.39  \n",
            "   1    |   900   |   0.197291   |     -      |     -     |   37.36  \n",
            "   1    |   920   |   0.221864   |     -      |     -     |   37.59  \n",
            "   1    |   940   |   0.212823   |     -      |     -     |   37.51  \n",
            "   1    |   960   |   0.189312   |     -      |     -     |   37.49  \n",
            "   1    |   980   |   0.212296   |     -      |     -     |   37.51  \n",
            "   1    |  1000   |   0.226029   |     -      |     -     |   37.40  \n",
            "   1    |  1020   |   0.194387   |     -      |     -     |   37.43  \n",
            "   1    |  1040   |   0.233546   |     -      |     -     |   37.52  \n",
            "   1    |  1060   |   0.208970   |     -      |     -     |   37.39  \n",
            "   1    |  1080   |   0.208527   |     -      |     -     |   37.41  \n",
            "   1    |  1100   |   0.185182   |     -      |     -     |   37.51  \n",
            "   1    |  1120   |   0.214570   |     -      |     -     |   37.51  \n",
            "   1    |  1140   |   0.213360   |     -      |     -     |   37.55  \n",
            "   1    |  1160   |   0.159294   |     -      |     -     |   37.41  \n",
            "   1    |  1180   |   0.209577   |     -      |     -     |   37.27  \n",
            "   1    |  1200   |   0.189938   |     -      |     -     |   37.45  \n",
            "   1    |  1220   |   0.220495   |     -      |     -     |   37.51  \n",
            "   1    |  1240   |   0.195338   |     -      |     -     |   37.53  \n",
            "   1    |  1249   |   0.204411   |     -      |     -     |   16.82  \n",
            "----------------------------------------------------------------------\n",
            "\n",
            "\n",
            " Epoch  |  Batch  |  Train Loss  |  Val Loss  |  Val Acc  |  Elapsed \n",
            "----------------------------------------------------------------------\n",
            "   2    |   20    |   0.103566   |     -      |     -     |   39.27  \n",
            "   2    |   40    |   0.133479   |     -      |     -     |   37.32  \n",
            "   2    |   60    |   0.144726   |     -      |     -     |   37.52  \n",
            "   2    |   80    |   0.091348   |     -      |     -     |   37.53  \n",
            "   2    |   100   |   0.078669   |     -      |     -     |   37.44  \n",
            "   2    |   120   |   0.131209   |     -      |     -     |   37.42  \n",
            "   2    |   140   |   0.094293   |     -      |     -     |   37.53  \n",
            "   2    |   160   |   0.111860   |     -      |     -     |   37.39  \n",
            "   2    |   180   |   0.087079   |     -      |     -     |   37.48  \n",
            "   2    |   200   |   0.134589   |     -      |     -     |   37.46  \n",
            "   2    |   220   |   0.097085   |     -      |     -     |   37.32  \n",
            "   2    |   240   |   0.104049   |     -      |     -     |   37.28  \n",
            "   2    |   260   |   0.102469   |     -      |     -     |   37.62  \n",
            "   2    |   280   |   0.123338   |     -      |     -     |   37.61  \n",
            "   2    |   300   |   0.087426   |     -      |     -     |   37.47  \n",
            "   2    |   320   |   0.124826   |     -      |     -     |   37.37  \n",
            "   2    |   340   |   0.110464   |     -      |     -     |   37.43  \n",
            "   2    |   360   |   0.114454   |     -      |     -     |   37.51  \n",
            "   2    |   380   |   0.115424   |     -      |     -     |   37.59  \n",
            "   2    |   400   |   0.115926   |     -      |     -     |   37.44  \n",
            "   2    |   420   |   0.072290   |     -      |     -     |   37.27  \n",
            "   2    |   440   |   0.123200   |     -      |     -     |   37.41  \n",
            "   2    |   460   |   0.097646   |     -      |     -     |   37.56  \n",
            "   2    |   480   |   0.089213   |     -      |     -     |   37.41  \n",
            "   2    |   500   |   0.076187   |     -      |     -     |   37.32  \n",
            "   2    |   520   |   0.123143   |     -      |     -     |   37.45  \n",
            "   2    |   540   |   0.093650   |     -      |     -     |   37.31  \n",
            "   2    |   560   |   0.095398   |     -      |     -     |   37.40  \n",
            "   2    |   580   |   0.079874   |     -      |     -     |   37.42  \n",
            "   2    |   600   |   0.084726   |     -      |     -     |   37.58  \n",
            "   2    |   620   |   0.114276   |     -      |     -     |   37.48  \n",
            "   2    |   640   |   0.137405   |     -      |     -     |   37.48  \n",
            "   2    |   660   |   0.107164   |     -      |     -     |   37.60  \n",
            "   2    |   680   |   0.090947   |     -      |     -     |   37.45  \n",
            "   2    |   700   |   0.091983   |     -      |     -     |   37.33  \n",
            "   2    |   720   |   0.106246   |     -      |     -     |   37.35  \n",
            "   2    |   740   |   0.134922   |     -      |     -     |   37.32  \n",
            "   2    |   760   |   0.087355   |     -      |     -     |   37.41  \n",
            "   2    |   780   |   0.095264   |     -      |     -     |   37.53  \n",
            "   2    |   800   |   0.119242   |     -      |     -     |   37.44  \n",
            "   2    |   820   |   0.125600   |     -      |     -     |   37.33  \n",
            "   2    |   840   |   0.079471   |     -      |     -     |   37.31  \n",
            "   2    |   860   |   0.072983   |     -      |     -     |   37.41  \n",
            "   2    |   880   |   0.134036   |     -      |     -     |   37.56  \n",
            "   2    |   900   |   0.080351   |     -      |     -     |   37.36  \n",
            "   2    |   920   |   0.084439   |     -      |     -     |   37.40  \n",
            "   2    |   940   |   0.068124   |     -      |     -     |   37.37  \n",
            "   2    |   960   |   0.122601   |     -      |     -     |   37.30  \n",
            "   2    |   980   |   0.108615   |     -      |     -     |   37.31  \n",
            "   2    |  1000   |   0.120403   |     -      |     -     |   37.33  \n",
            "   2    |  1020   |   0.098948   |     -      |     -     |   37.38  \n",
            "   2    |  1040   |   0.054014   |     -      |     -     |   37.35  \n",
            "   2    |  1060   |   0.106966   |     -      |     -     |   37.32  \n",
            "   2    |  1080   |   0.078168   |     -      |     -     |   37.49  \n",
            "   2    |  1100   |   0.103453   |     -      |     -     |   37.42  \n",
            "   2    |  1120   |   0.085448   |     -      |     -     |   37.43  \n",
            "   2    |  1140   |   0.043250   |     -      |     -     |   37.37  \n",
            "   2    |  1160   |   0.101496   |     -      |     -     |   37.40  \n",
            "   2    |  1180   |   0.073124   |     -      |     -     |   37.32  \n",
            "   2    |  1200   |   0.097240   |     -      |     -     |   37.59  \n",
            "   2    |  1220   |   0.073267   |     -      |     -     |   37.49  \n",
            "   2    |  1240   |   0.097254   |     -      |     -     |   37.27  \n",
            "   2    |  1249   |   0.106070   |     -      |     -     |   16.75  \n",
            "----------------------------------------------------------------------\n",
            "\n",
            "\n",
            "Training complete!\n"
          ],
          "name": "stdout"
        }
      ]
    },
    {
      "cell_type": "markdown",
      "metadata": {
        "papermill": {
          "duration": 0.063394,
          "end_time": "2021-01-08T15:09:49.557269",
          "exception": false,
          "start_time": "2021-01-08T15:09:49.493875",
          "status": "completed"
        },
        "tags": [],
        "id": "_vxyRQKCppKQ"
      },
      "source": [
        "**4. Predictions on Test Set**"
      ]
    },
    {
      "cell_type": "code",
      "metadata": {
        "papermill": {
          "duration": 2.464064,
          "end_time": "2021-01-08T15:09:52.084453",
          "exception": false,
          "start_time": "2021-01-08T15:09:49.620389",
          "status": "completed"
        },
        "tags": [],
        "colab": {
          "base_uri": "https://localhost:8080/"
        },
        "id": "rnxLafJippKR",
        "outputId": "9d83fe37-24d0-4391-d0ee-691b97e9f41c"
      },
      "source": [
        "# Run `preprocessing_for_bert` on the test set\n",
        "print('Tokenizing data...')\n",
        "test_inputs, test_masks = preprocessing_for_bert(df_test.review)\n",
        "\n",
        "# Create the DataLoader for our test set\n",
        "test_dataset = TensorDataset(test_inputs, test_masks)\n",
        "test_sampler = SequentialSampler(test_dataset)\n",
        "test_dataloader = DataLoader(test_dataset, sampler=test_sampler, batch_size=32)"
      ],
      "execution_count": 33,
      "outputs": [
        {
          "output_type": "stream",
          "text": [
            "Tokenizing data...\n"
          ],
          "name": "stdout"
        },
        {
          "output_type": "stream",
          "text": [
            "/usr/local/lib/python3.7/dist-packages/transformers/tokenization_utils_base.py:2132: FutureWarning: The `pad_to_max_length` argument is deprecated and will be removed in a future version, use `padding=True` or `padding='longest'` to pad to the longest sequence in the batch, or use `padding='max_length'` to pad to a max length. In this case, you can give a specific length with `max_length` (e.g. `max_length=45`) or leave max_length to None to pad to the maximal input size of the model (e.g. 512 for Bert).\n",
            "  FutureWarning,\n"
          ],
          "name": "stderr"
        }
      ]
    },
    {
      "cell_type": "markdown",
      "metadata": {
        "papermill": {
          "duration": 0.062859,
          "end_time": "2021-01-08T15:09:52.210493",
          "exception": false,
          "start_time": "2021-01-08T15:09:52.147634",
          "status": "completed"
        },
        "tags": [],
        "id": "xDyaEzCyppKR"
      },
      "source": [
        "<div style=\"color:white;\n",
        "           display:fill;\n",
        "           border-radius:5px;\n",
        "           background-color:#ffc299;\n",
        "           font-size:110%;\n",
        "           font-family:Verdana;\n",
        "           letter-spacing:0.5px\">\n",
        "\n",
        "<h1 style=\"text-align: center;\n",
        "           padding: 10px;\n",
        "           color:white;\">\n",
        "\n",
        "Predictions\n",
        "</h1>\n",
        "</div>\n",
        "\n"
      ]
    },
    {
      "cell_type": "code",
      "metadata": {
        "papermill": {
          "duration": 6.333657,
          "end_time": "2021-01-08T15:09:58.608145",
          "exception": false,
          "start_time": "2021-01-08T15:09:52.274488",
          "status": "completed"
        },
        "tags": [],
        "colab": {
          "base_uri": "https://localhost:8080/",
          "height": 232
        },
        "id": "OdGJM_xMppKR",
        "outputId": "fb8fd8bb-3cc1-4303-c1e1-80018b657335"
      },
      "source": [
        "# Compute predicted probabilities on the test set\n",
        "probs = bert_predict(bert_classifier, test_dataloader)\n",
        "\n",
        "# Get predictions from the probabilities\n",
        "threshold = 0.9\n",
        "preds = np.where(probs[:, 1] > threshold, 1, 0)\n",
        "\n",
        "# Number of reviews predicted non-negative\n",
        "print(\"Number of reviews predicted non-negative: \", preds.sum())"
      ],
      "execution_count": 1,
      "outputs": [
        {
          "output_type": "error",
          "ename": "NameError",
          "evalue": "ignored",
          "traceback": [
            "\u001b[0;31m---------------------------------------------------------------------------\u001b[0m",
            "\u001b[0;31mNameError\u001b[0m                                 Traceback (most recent call last)",
            "\u001b[0;32m<ipython-input-1-9aef79ff8863>\u001b[0m in \u001b[0;36m<module>\u001b[0;34m()\u001b[0m\n\u001b[1;32m      1\u001b[0m \u001b[0;31m# Compute predicted probabilities on the test set\u001b[0m\u001b[0;34m\u001b[0m\u001b[0;34m\u001b[0m\u001b[0;34m\u001b[0m\u001b[0m\n\u001b[0;32m----> 2\u001b[0;31m \u001b[0mprobs\u001b[0m \u001b[0;34m=\u001b[0m \u001b[0mbert_predict\u001b[0m\u001b[0;34m(\u001b[0m\u001b[0mbert_classifier\u001b[0m\u001b[0;34m,\u001b[0m \u001b[0mtest_dataloader\u001b[0m\u001b[0;34m)\u001b[0m\u001b[0;34m\u001b[0m\u001b[0;34m\u001b[0m\u001b[0m\n\u001b[0m\u001b[1;32m      3\u001b[0m \u001b[0;34m\u001b[0m\u001b[0m\n\u001b[1;32m      4\u001b[0m \u001b[0;31m# Get predictions from the probabilities\u001b[0m\u001b[0;34m\u001b[0m\u001b[0;34m\u001b[0m\u001b[0;34m\u001b[0m\u001b[0m\n\u001b[1;32m      5\u001b[0m \u001b[0mthreshold\u001b[0m \u001b[0;34m=\u001b[0m \u001b[0;36m0.9\u001b[0m\u001b[0;34m\u001b[0m\u001b[0;34m\u001b[0m\u001b[0m\n",
            "\u001b[0;31mNameError\u001b[0m: name 'bert_predict' is not defined"
          ]
        }
      ]
    },
    {
      "cell_type": "code",
      "metadata": {
        "papermill": {
          "duration": 0.075566,
          "end_time": "2021-01-08T15:09:58.749108",
          "exception": false,
          "start_time": "2021-01-08T15:09:58.673542",
          "status": "completed"
        },
        "tags": [],
        "colab": {
          "base_uri": "https://localhost:8080/"
        },
        "id": "Nh3lixYoppKR",
        "outputId": "6b5e7c0e-a4a0-4eb8-ae9a-41c3169cb4e1"
      },
      "source": [
        "output = test_data[preds==1]\n",
        "list(output.sample(20).review)"
      ],
      "execution_count": 35,
      "outputs": [
        {
          "output_type": "execute_result",
          "data": {
            "text/plain": [
              "[\"Michael Jackson is amazing. This short film displays the absolute highest standard in music video and no-one will ever be able to out-beat this 'King Of Pop' masterpiece! It shows Michael turning into a zombie and dancing in the street with some spectacular choreography. The story is great, the scenes are marvelous, the music is fantastic and overall the clip is fun, eye-popping, spooky and is a real spectacle. Today everybody is still doing the same thing in music video with dancing and film-based story-lines which he innovated. This ground-breaking video is the toast of MTV and will forever be remembered for what is the greatest music video of all time!!\",\n",
              " \"This almost perfect cinematic rendition of Edith Nesbit's popular children's novel follows the lives of Roberta (Bobbie), Phyllis, and Peter, and their mother, after their father is unfairly accused of treason and sent to prison. They go to live in an almost uninhabitable house in the country which stands near a railway line \\x96 mum writes stories to make enough money for food and candles, while the children spend much of their time around the railway station and, specifically, waving to one particular train to 'send their love to father'.<br /><br />Always an involving and clever novel, the characters are here brought to life under the perceptive direction of Lionel Jeffries (better known as a fine character actor). Jenny Agutter plays Bobbie, while Sally Thomsett and Gary Warren are her sister and brother. Their mother is Dinah Sheridan, while the other memorable characters are played by Bernard Cribbins (Perks the railway-man) and William Mervyn (the old gentleman on the train).<br /><br />'The Railway Children' is gentle entertainment from another age, but does its job beautifully. As we watch Bobbie grow up with the worries of an absent parent jostling against her own needs both to be alone and to have fun, we can only rejoice when events come together at the close of the picture. Throughout we have a sense of time and place \\x96 be it from the steam trains, the university paper chase, or the red flannelette petticoats worn by the girls (and used to avert disaster!).\",\n",
              " 'From the opening drum hit of \"We\\'re Gonna Groove\" to the last guitar hit of \"Whole Lotta Love\", this two-DVD set might be one of the best music DVD\\'s ever to hit the shelves since the Beatles Anthology was finally released earlier this year.<br /><br />One of the best things about this DVD is that on Disc 1, a whole concert and many television appearances can be found. For instance, the whole Royal Albert Hall concert is on the DVD, as well as some of the best performances from the band\\'s last concert at Knebworth.<br /><br />In the Royal Albert Hall concert, for instance, the band had a lot of room to improvise. Jimmy Page\\'s guitar solos make \"Dazed And Confused\" a huge rock power ballad as opposed to the laid-back blues song it was on Led Zeppelin I. <br /><br />Next, on DVD 2, is a promotional video for the Led Zeppelin III hit song \"Immigrant Song\". One of Zeppelin\\'s hardest rocking songs, the video is about as sketchy as a Pre-MTV video was, but it displays a lot of guitar power by Jimmy Page, as it was taken from a live performance. After the video ends, we are treated, in transition, with a short picture of fans filling the seats at Madison Square Garden. The following are performances that were supposed to be part of \"The Song Remains The Same\", but did not make the cut. Excellent riffs like those in the songs \"Black Dog\" and \"The Ocean\" were both present.<br /><br />After the Madison Performances, we are treated with Earl\\'s Court. Most of the Led Zeppelin IV material was played here, like the most popular song that Zeppelin ever recorded, \"Stairway to Heaven\". It is brilliant as always, even more so than the version on IV.<br /><br />Finally, to end the 5+ hours of live material, is Led Zeppelin\\'s final concert in Knebworth in August of 1979. As the viewer watches this, they have to admit that Robert Plant\\'s voice is getting throatier and deeper from all of the screaming he has done in the past, and it is evident here. On songs like \"Kashmir\" and \"In The Evening\", Plant does not have his vocal boost of old, yet, on \"Whole Lotta Love\", it returns for one more song.<br /><br />Overall, one of the best musical DVD\\'s ever released, only next to the great \"Beatles Anthology\" boxed set that was released earlier in 2003. The sound, both in 5.1 DTS and 5.1 Dolby Digital, just like the Beatles DVD, gives you a feeling of being on-stage with the performers, standing right next to them, as you would feel on the Beatles DVD when they are jamming in the studio. Even though The Beatles and Led Zeppelin are different bands, though, they each received different DVD\\'s. Even though this set comes on only two discs compared to the five disc Beatles Set, it still feels very filling to the viewer after they have gone through all of that content. It is also a pleasure to watch again and again, not only because of the sound quality, but because of the sheer energy on stage when Robert Plant begins to sing.<br /><br />A brilliant effort from Atlantic.',\n",
              " \"CONTEXT is everything when one goes to rate a movie. When rating this movie one has to consider the time in which it was made. We didn't really know WHAT the inside of the EARTH was in those days so you can't rag on the movie too much for the plot (based on a much older book). For the era, this was top notch special effects and the production quality was great. I watched this movie in a masterfully restored HD master. For the time the makeup and effects almost make the guys in the rubber suits look plausible as a monster-thing. This is pure movie cheese complete with bad rubber suits, models, and creepy costumes. AWESOME. PS Doug McClure ROCKS!\",\n",
              " \"If you've ever seen Open Water , this is the same kind of gritty, edgy, indie style of film. i liked the action, suspense. the slow building of it all,, i just hope they don't do to this one what they did to Open Water, with that sequel.. but anyways,, the one thing i didn't like was the annoying younger sister,, i was rooting for the croc the whole time.. film starts out pretty much like it should,, kids packing up for a trip,, they hire a guide who mysteriously left 5 mins. before they got there,, so i guess his assistant takes the two sisters,, and the boyfriend out on the water , now mind you this is the second day of their adventure,, curiously enough the first day they spent at guess ,, hmm a crocodile farm.. so they are out there and all is good for a little while,, then bang,, crocodile time... very intense,, you know something in this movie you don't see the crocodile, a whole heck of a lot,, but when you do,, gosh it is very scary,, i love the croc's snout and eyes,, and the shroud of fog that seems to enshroud the croc every time he raises his head above the water,, very very creepy, but good,, overall this is a great film,, if you can get past the annoying little sister.\",\n",
              " 'So many times, Bollywood has tried to remake Hollywood hits, only to produce total duds. Mercifully, Yash Chopra\\'s interpretation of \"Sleeping with the Enemy\" is an extremely stylish and well-made films.<br /><br />Shah Rukh Khan is obsessed with Juhi Chawla (who\\'s looking her very best in here!). When he realizes that Juhi has a fiance in Sunny Deol, he stops at nothing to make sure she becomes his.<br /><br />Every frame of this film is a delight to watch. Whether it\\'s Shah Rukh chanting his trademark \"I love you, K...k...k...kiran!\" or the feel-good mushy scenes between Sunny and Juhi (who make a perfect match), you won\\'t feel like leaving your eat in boredom.<br /><br />Each and every song on the soundtrack is ear pleasing, especially Jaadu Teri Nazar and Tu Mere Samne. Like I said, Juhi looks like a Goddess in this film. Darr may not be SRK\\'s best film (that honor goes to Baazigar), but it definitely figures as one of his most flawless performances! Sunny is OK. He\\'s done similar roles before, but he\\'s good.<br /><br />Overall, Darr is g...g...g...great! ;)',\n",
              " 'Russell Hopton acted in many films until his death in 1945. He only directed 2 and \"Black Gold\" was one, (the other was also from 1936). Frankie Darro had a sometimes abrasive screen presence but in this he was playing a good kid. He was obviously quite popular on the \"quickie\" circuit - he made so many films. In this one he plays the son of an old oil rigger who is convinced that he will strike oil very soon.<br /><br />J.C. Anderson (Berton Churchill) is trying to convince the old man to sell up as he knows there is going to be oil struck at any moment. A geologist, Henry, comes on the scene and helps \"Fishtail\\'s\" dad. He also convinces \"Fishtail\" to go to school regularly. Henry has his eye on Cynthia, the pretty teacher. This was Gloria Shea\\'s last film - she had begun her career as Olive Shea in \"Glorifying the American Girl\" (1929). \"Fishtail\\'s\" dad is killed when the rig is sabotaged and Henry is determined to bring Anderson and his cronies to justice. When Henry is kidnapped Anderson tries to persuade \"Fishtail\" to sell his oil lease. It all ends well with oil being struck and \"Fishtail\" going to Military school.<br /><br />It is okay for a rainy day.',\n",
              " \"Ahem.. I think I'll be the only one who's saying this but yes, I was a lil bored during the film. Not to say that this is a bad movie, in fact it's a very good attempt at portraying the innermost emotions - dilemma, sorrow, love.., esp it's the director's debut (read from somewhere, is it true?). I felt that something's not quite right, maybe it's just me, I'm not drawn to the characters enough to immerse me in their world. This is a simple story, about ordinary people, ordinary lives. Through simple and short dialogs, the director tries to relate a simple guy's life, and how copes with the news of his illness by laughing it away every time. Oh ya his laughter was kinda cute at first but gradually it gets to me, such a deep hearty roar for a gentle man! I must say, I didn't feel the impact that most readers felt, in fact I was more drawn to the trivial scenarios like spitting of watermelon seeds with his sis that clearly shows that they're comfortable with each other, the granny who came back for another shot - this is kinda melancholic, the thoughtful gesture of writing down the procedures for his dad - hmm but this is predictable.. Don't misunderstood that I'm an action-lover, independent films are my cup of tea! Perhaps I just have a really high expectation after watching many deep films that have stronger imagery. Some Asian films worth the watch: <br /><br />Tony Takitani (depicts loneliness) Wayward Cloud (only 1 dialog) My Sassy Girl (I like it!) 4.30 (loneliness as well) 15 (gangsters lives in local setting) Before sunrise and Before sunset (I just have to mention these even though they are not Asian films. Fans will understand!)\",\n",
              " 'I saw this film at the 2001 Toronto International Film Festival. La Pianiste reinforces the \"Austrians=grim\" thesis I\\'m formulating. Isabelle Huppert won a well-deserved Best Actress award at Cannes for her portrayal of a woman who, in her efforts to attain the artistic ideal, loses her humanity. Trapped by her talent, she suppresses her emotions and her sexuality until they can only be expressed in twisted and terrifying ways. When a younger student falls in love with her, our hopes rise, but are soon dashed by the realization that she cannot experience love the way others can. It is too late for her, and the film\\'s final 30 harrowing minutes are, tellingly, devoid of the beautiful music that carried the first 90 minutes. The message seems to be that the music itself is not enough without the life and beauty it\\'s describing.',\n",
              " \"I keep watching this movie over and over and over. I have to watch it at least once a week. I am from Africa and looking at that movie taught me some things that I didn't even know about Africa. Denzel's movies are all full of lessons for people of walks of life. I wish he was my own brother. I have also seen and love your Masala Mississipi. What a thrilling situation. When Denzel was trying to hook his brother up on the job, reminds me of my teen ages when my brother was always mad with me about getting myself busy all the time. My brother was always caring for my old father and he wants to see me the same way too. By the way where did Denzel get that African accent from in the Cry Freedom movie? I have first seen that movie in Africa and I didn't know then that Denzel was American till I moved down here.\",\n",
              " 'I was surfing through IMDb one day, when I stumbled across \"The Curious Adventures of Mr. Wonderbird.\" Noticing how obscure it was, I decided to set off looking for it. Thanks to Digiview, it didn\\'t take me long, so I bought it for a dollar, and when I got home, I watched it, although I must say, I was quite impressed.<br /><br />Three of the paintings in a king\\'s apartment, a shepherdess, a chimney sweep, and a self-portrait of the king (who is just as selfish and sadistic as the actual king himself) come to life one night while the king is sleeping. The shepherdess and the chimney sweep escape, while the painting of the king calls the police in order to capture the couple. Fortunately for the couple, Mr. Wonderbird comes in to help them, often mocking the police and the king.<br /><br />The back of the DVD case describes this film as \"a surreal visual delight and an underrated entry in the history of classic animation.\" I couldn\\'t agree more with it, considering that much of the backgrounds look rather bizarre, and many of the characters are weird, which include the depressed citizens of an underground city and hungry lions that are calmed by the music of a blind man (who kind of looks like Andy Warhol), not to mention Mr. Wonderbird himself is somewhat eccentric. The film is very creative and mostly fun to watch, and its only flaw is that it can be slow moving. But overall, this film was very good, and it comes recommended by yours truly.<br /><br />Grade: B+ (Awesome)',\n",
              " 'Andy Goldsworthy is a taoist master of the first order, expressing the Way through his sublime ephemeral art. Indeed, time and change is what his work is fundamentally about. I bought his first book several years ago and my family has marveled at it many times. So it was a treat to get to know the artist personally through this film, he is just as patient and gentle as you would expect, and has some wonderful things to say about the natural world, the deepest of which are expressed in his occasional inability to say it in words at all. He is like most children who play in the great outdoors alone (if they do anymore), creating things from sticks and sand and mud and snow before they outgrow it. Mr. Goldsworthy was given the gift and the mission to extend that sort of play to create profound visions of nature, and to open our often weary eyes to it in brilliant new ways. And always with the utmost respect, gratitude and humor of a wandering, and wondering monk.',\n",
              " 'One of the most famous of all movie serials! Still interesting today although it does have an \"old movie\" look to it. The second serial looks better but simply does not equal this one. Actors have a good time , especially Middleton and Lipson. Great editing by the Universal expert crew. The musical score was tracked in from Universal\\'s \"Destination Unknown\", \"The Invisible Man\", \"The Black Cat\", and \"Werewolf of London\". And what great action music it was! If there was a choice for all-time best serial, this (arguably) should be #1.',\n",
              " \"This is definitely one of the best movies I've ever seen-- it has everything-- a genuinely touching screenplay, fine actors that make subtlety a beautiful art to watch, an actually elegant romance (it's a shame that that kind of romance just doesn't seem to exist anymore), lovely songs and lyrics (especially the final song), an artistic score, and costumes and sets that make you want to live in them. The ending was only a disappointment in that I was expecting a spectacular film to have a brilliant end-- but it was still more wonderful then the vast majority of movies out there. Definitely check this movie out-- over and over again. There are many details you miss the first time that deserve a second look.\",\n",
              " 'Reading the various external reviews of Roger Ebert and other well-known film critics makes me hesitate to admit how much I love this movie, even though I only have a dubbed-into-Japanese video version of it.<br /><br />Apparently, many critics seem to take it as a minus that the story premise has been used before, most famously in the very great \"It\\'s a Wonderful Life.\" To me, a great premise is a great premise no matter how many times it\\'s used, and I\\'d be happy to see more movies using this particular premise--the discontented man who gets a chance to gain a fresh perspective on his own life through a bit of \"divine magic.\"<br /><br />I suppose folks and critics of a more intellectual bent are not as pulled into the story, but I don\\'t go to movies to critique them with notebook in hand--I go to movies to throw myself into them and let them take me where they will. <br /><br />If you are sentimental sort like myself, you\\'ll be well rewarded by seeing this picture. The performances are excellent throughout, and the movie was very well cast. Wonderful choice of music, too. Michael Caine is superb as the sympathetic bartender. Jim Belushi does a great job as an \"average Joe\" kind of guy who wonders if his life hasn\\'t gone as it should. Linda Hamilton, always excellent, is again right on target here as the loving wife. Jon Lovitz entertains as usual, and even has some surprisingly moving moments in \"Mr. Destiny.\"<br /><br />No, \"Mr. Destiny\" is not \"It\\'s a Wonderful Life,\" but who says it has to be? Taken on its own terms, \"Mr. Destiny\" is an enjoyable, well-made, funny, and moving film. I\\'ve seen my Japanese-dubbed video of it numerous times, and I\\'m sure I\\'ll see it several more times. If that somehow makes me a \"lowbrow,\" so be it! I\\'m just glad that I hadn\\'t read any reviews of \"Mr. Destiny\" before seeing it.<br /><br />I suppose I should have the courage of my convictions and give the movie nine or ten stars, but I couldn\\'t help but doubt myself after reading all the critical reviews!',\n",
              " 'A friend of mine asked: \"Doesn\\'t one have to be pro-euthanasia in order to like this movie? Is it a mistake of the movie to infer most quadriplegics want to end their lives?\" Interesting questions.<br /><br />As far as I can see (correct me if I\\'m wrong), there is only one quadriplegic who wanted to end his life in The Sea Inside. Think Ramón Sampedro addressed this in the movie as well. It is he who wants to die. It is he who is fighting for his right to decide his death. He is speaking for himself and not other quadriplegics. Though his pioneering work, depending on one\\'s perspective, may prove beneficial or damaging to quadriplegics down the road, his primary objective is a personal one. But one thing this movie does (my opinion anyway), is that it forces us the viewers to ask ourselves the inferring questions my friend so succinctly put forth.<br /><br />After my first viewing of The Sea Inside, I walked home in a conflicted blur. I struggled to reconcile with this exasperating notion; why would Ramón want to die? Given the love, care and sacrifices so unconditionally showered on Ramón by the people surrounding him, why would he doggedly cling on to his hurtful decision? Then, on my second viewing, a shared thought between Ramón and the lawyer lady entered my consciousness. It threw up a telling observation: \"...total dependency comes at the expense of intimacy.\" Most human beings crave for such an intimacy. Of course, how much we value such \"needs\", depends largely on the individual.<br /><br />As a person with a familial-biased sensibility, I empathised strongly with the caregivers in this movie. Why can\\'t Javier consider the sacrifice and the love from his family and friends? Is he blind to it all? I would think not. The miracle of The Sea Inside therefore, is its insightful depiction of a very humanistic tug of war. When we are faced with the guardianship of a sane but incapacitated loved one, whom has expressed a calm, conscious and rational intent to die, what then is the right thing to do? Is caring for and keeping this loved one alive, against his or her will, a pious gesture? Does it show up the worth of our love? Or does it merely soothe our \"selfish\" fears of irreplaceable loss? With so much understanding accorded to caregivers, wouldn\\'t their invalid charges, by submitting themselves to the total dependency of others for survival, also be an overlooked act of sacrifice? Rhetorical or not, how much is \"dignity\" worth to an individual? Is living (or dying) with dignity a privilege or a right? If we really care and love a person, should we also respect their eventual decisions in life (as in death)? A torrent of questions the movie might have asked, answers to which, I\\'m in no position to provide.<br /><br />In our eagerness to intellectually demarcate the merits of pro-life or pro-choice, we run the risk of ignoring a sea of grey that\\'s engulfing the people most intimately affected, the caregivers and the ones they care for. The Sea Inside hence attempted to present the delicate yet complex relationship dynamics between them. Intuitively, this film understands one thing; that the nature of \"sacrifice\" is never one-sided. In this tug of war, we should endeavour not to win arguments, but to intently observe and hopefully determine, who is the \"stronger\" party to make that sacrifice.<br /><br />The Sea Inside is a sobering film. It opened my eyes to things I don\\'t wanna see. And for that, I am grateful.',\n",
              " \"Everything I remember about it was excellent... great cast with Sam Waterston & George Innes (before he became more familiar to US audiences).... excellent scripts as only the English can do - Edwardian Sherlock Holmes/Lord Peter Wimsey/Albert Campion type mysteries, but with a Jules Verne twist. Sort of like MacGyver would have been had it been in England 80 years earlier... right at the beginning of the scientific/technological revolution of the 20th century.<br /><br />I've often wondered if the creators of MacGyver saw these shows. MacGyver first aired about 3 years later.<br /><br />I still have 1 episode on a much deteriorated tape.\",\n",
              " \"A very strong movie. Bruce is good and Brad also.<br /><br />As I think there are two cities missed in the receptionist list from the list Bruce remembered.<br /><br />That means the woman was a real insurance and she did her job.<br /><br />Well, Novikov property seems to me work in this movie. However, I do believe in Back to the future theory of worlds' multiplicity.<br /><br />So Bruce could save the world, but not his world.<br /><br />In the theory of parallel worlds the man can meet himself.<br /><br />And I do believe there is no problem in that. Here I disagree with Dr. Brown from Back...<br /><br />But the story pf 12 Monkeys has its own beauty. Inspite of all these theories of one world or many or continuum one can believe that he is really insane and the doctor - his girlfriend was just lost.<br /><br />A sequence of events which may lead her to believe that he is from the future. The bullet - well it might be some mistake, some falsification.<br /><br />Well I like this movie - has to buy a DVD.<br /><br />Best.\",\n",
              " 'I saw this film numerous times in the late 60\\'s/early 70\\'s whenever it reared it\\'s head like a reindeer with rabies every November-December as a Saturday matinée kiddie show.It was always stiff competition for THE CHRSTMAS THAT ALMOST WASN\\'T (oops-can I SAY \"Christmas\"?), perhaps the greatest,most iconic Christmas-season film of all time.But that\\'s another review.<br /><br />At the time,I marveled that the on-screen tint of SANTA CLAUS was almost \"pink and white\", so much had the color of the sprocket-torn prints changed color.<br /><br />The film is kinda creepy! I thought so then--and still do, actually. I was highly entertained then, as I still am! It\\'s amusing in a \"retarted-elf\" sort of way. By the way,the image quality looks much better on the DVD I have now than it did in the theater, circa 1969-74.<br /><br />If you are expecting maybe \"the lost RANKIN-BASS Christmas special-forget it! If you want FELLINI DOES Christmas--read on...<br /><br />By nature, the dubbing on these foreign films (the original version here was in Spanish)always makes them seem \"surreal\". This adds to the films inherent oddness. It is also pretty scary in that a \"mishevious demon\" (as described in the original US trailer) spends the entire film trying to turn decent kids \"evil\". One particularly nightmarish scene has a young \"latch-key\" boy wishing he had parents for Christmas-suddenly the \"port-a-family\" emerges out of giant \"Christmas presents-of-the-mind\" until he realizes he\\'s just daydreaming! See this,Christmas lovers--and if you\\'re a stoner, save your stash--this film will make you think you\\'re hallucinating...without drugs!',\n",
              " '\"Committed\" is all about Graham as an irrepressible optimist who goes in search of her self-estranged husband who has gone in search of himself which all leads to a sort of kookie, upbeat comedic odyssey involving a bunch of side characters and issues. A fresh, fun, and unpredictable little flick, what \"Committed\" lacks in story it makes up for in good naturedness and subtle morals and maxims. If you enjoy this little chick flick, which received slightly above average reviews by critics and public alike, you might want to check out Lisa Krueger\\'s hit Indie \"Manny & Lo\" (1996). (B)']"
            ]
          },
          "metadata": {
            "tags": []
          },
          "execution_count": 0
        }
      ]
    },
    {
      "cell_type": "code",
      "metadata": {
        "papermill": {
          "duration": 0.063385,
          "end_time": "2021-01-08T15:09:58.877760",
          "exception": false,
          "start_time": "2021-01-08T15:09:58.814375",
          "status": "completed"
        },
        "tags": [],
        "colab": {
          "base_uri": "https://localhost:8080/",
          "height": 567
        },
        "id": "a_D1w1PappKS",
        "outputId": "7c14a63e-d2bc-453b-9c09-e4900befaaeb"
      },
      "source": [
        "# Compute predicted probabilities on the test set\n",
        "probs = bert_predict(bert_classifier, test_dataloader)\n",
        "\n",
        "# Evaluate the Bert classifier\n",
        "evaluate_roc(probs, df_test.sentiment)"
      ],
      "execution_count": 36,
      "outputs": [
        {
          "output_type": "stream",
          "text": [
            "AUC: 0.9832\n",
            "Accuracy: 93.66%\n",
            "Accuracy: 93.66\n",
            "\n",
            "Confusion Matrix:\n",
            " [[4654  339]\n",
            " [ 295 4712]]\n",
            "              precision    recall  f1-score   support\n",
            "\n",
            "           0       0.94      0.93      0.94      4993\n",
            "           1       0.93      0.94      0.94      5007\n",
            "\n",
            "    accuracy                           0.94     10000\n",
            "   macro avg       0.94      0.94      0.94     10000\n",
            "weighted avg       0.94      0.94      0.94     10000\n",
            "\n"
          ],
          "name": "stdout"
        },
        {
          "output_type": "display_data",
          "data": {
            "image/png": "[encoded data removed]",
            "text/plain": [
              "<Figure size 432x288 with 1 Axes>"
            ]
          },
          "metadata": {
            "tags": []
          }
        }
      ]
    }
  ]
}